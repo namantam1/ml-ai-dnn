{
  "nbformat": 4,
  "nbformat_minor": 0,
  "metadata": {
    "colab": {
      "provenance": [],
      "authorship_tag": "ABX9TyM6rDhPYJVvECuyLaIwX2hn",
      "include_colab_link": true
    },
    "kernelspec": {
      "name": "python3",
      "display_name": "Python 3"
    },
    "language_info": {
      "name": "python"
    },
    "accelerator": "GPU",
    "gpuClass": "standard"
  },
  "cells": [
    {
      "cell_type": "markdown",
      "metadata": {
        "id": "view-in-github",
        "colab_type": "text"
      },
      "source": [
        "<a href=\"https://colab.research.google.com/github/namantam1/ml-ai-dnn/blob/main/Bag_of_n_grams_A_news_classifier.ipynb\" target=\"_parent\"><img src=\"https://colab.research.google.com/assets/colab-badge.svg\" alt=\"Open In Colab\"/></a>"
      ]
    },
    {
      "cell_type": "code",
      "execution_count": null,
      "metadata": {
        "id": "BPR8HbTE3Z7F"
      },
      "outputs": [],
      "source": [
        "from sklearn.feature_extraction.text import CountVectorizer"
      ]
    },
    {
      "cell_type": "code",
      "source": [
        "cv = CountVectorizer()\n",
        "cv.fit([\"Vikram singh is looking for a job\"])\n",
        "cv.vocabulary_"
      ],
      "metadata": {
        "colab": {
          "base_uri": "https://localhost:8080/"
        },
        "id": "t7kbAif_3ka7",
        "outputId": "498c31c0-5093-41cc-cf13-fcb50f23a49f"
      },
      "execution_count": null,
      "outputs": [
        {
          "output_type": "execute_result",
          "data": {
            "text/plain": [
              "{'vikram': 5, 'singh': 4, 'is': 1, 'looking': 3, 'for': 0, 'job': 2}"
            ]
          },
          "metadata": {},
          "execution_count": 8
        }
      ]
    },
    {
      "cell_type": "code",
      "source": [
        "cv = CountVectorizer(ngram_range=(1,2))\n",
        "cv.fit([\"Vikram singh is looking for a job\"])\n",
        "cv.vocabulary_"
      ],
      "metadata": {
        "colab": {
          "base_uri": "https://localhost:8080/"
        },
        "id": "aoBqyK0134ll",
        "outputId": "c1a780e1-99c8-4f82-934f-d0a46e2d79cf"
      },
      "execution_count": null,
      "outputs": [
        {
          "output_type": "execute_result",
          "data": {
            "text/plain": [
              "{'vikram': 9,\n",
              " 'singh': 7,\n",
              " 'is': 2,\n",
              " 'looking': 5,\n",
              " 'for': 0,\n",
              " 'job': 4,\n",
              " 'vikram singh': 10,\n",
              " 'singh is': 8,\n",
              " 'is looking': 3,\n",
              " 'looking for': 6,\n",
              " 'for job': 1}"
            ]
          },
          "metadata": {},
          "execution_count": 10
        }
      ]
    },
    {
      "cell_type": "code",
      "source": [
        "corpus = [\n",
        "    \"Thor ate pizza\",\n",
        "    \"Loki is tall\",\n",
        "    \"Loki is eating pizza\"\n",
        "]"
      ],
      "metadata": {
        "id": "y7AHVFPN4KZK"
      },
      "execution_count": null,
      "outputs": []
    },
    {
      "cell_type": "code",
      "source": [
        "import spacy\n",
        "\n",
        "nlp = spacy.load(\"en_core_web_sm\")\n",
        "\n",
        "def preprocess(text):\n",
        "  doc = nlp(text)\n",
        "  return \" \".join([token.lemma_ for token in doc if not token.is_stop and not token.is_punct])\n",
        "\n",
        "preprocess(corpus[0])"
      ],
      "metadata": {
        "colab": {
          "base_uri": "https://localhost:8080/",
          "height": 35
        },
        "id": "QZi4LSP74rGn",
        "outputId": "e3fe1a53-fd25-47ed-ea23-52a70a0b32be"
      },
      "execution_count": null,
      "outputs": [
        {
          "output_type": "execute_result",
          "data": {
            "text/plain": [
              "'Thor eat pizza'"
            ],
            "application/vnd.google.colaboratory.intrinsic+json": {
              "type": "string"
            }
          },
          "metadata": {},
          "execution_count": 17
        }
      ]
    },
    {
      "cell_type": "code",
      "source": [
        "corpus_preprocessed = list(map(preprocess, corpus))\n",
        "corpus_preprocessed"
      ],
      "metadata": {
        "colab": {
          "base_uri": "https://localhost:8080/"
        },
        "id": "pxOSzoCo5IDB",
        "outputId": "13d9857d-3a82-46f8-dc6e-4253214ca829"
      },
      "execution_count": null,
      "outputs": [
        {
          "output_type": "execute_result",
          "data": {
            "text/plain": [
              "['Thor eat pizza', 'Loki tall', 'Loki eat pizza']"
            ]
          },
          "metadata": {},
          "execution_count": 19
        }
      ]
    },
    {
      "cell_type": "code",
      "source": [
        "cv = CountVectorizer(ngram_range=(1,2))\n",
        "cv.fit(corpus_preprocessed)\n",
        "cv.vocabulary_"
      ],
      "metadata": {
        "colab": {
          "base_uri": "https://localhost:8080/"
        },
        "id": "OW09tVHh5w65",
        "outputId": "f34dff93-c758-4035-851c-860f8fd7879d"
      },
      "execution_count": null,
      "outputs": [
        {
          "output_type": "execute_result",
          "data": {
            "text/plain": [
              "{'thor': 7,\n",
              " 'eat': 0,\n",
              " 'pizza': 5,\n",
              " 'thor eat': 8,\n",
              " 'eat pizza': 1,\n",
              " 'loki': 2,\n",
              " 'tall': 6,\n",
              " 'loki tall': 4,\n",
              " 'loki eat': 3}"
            ]
          },
          "metadata": {},
          "execution_count": 20
        }
      ]
    },
    {
      "cell_type": "code",
      "source": [
        "# generate bag of n=2 gram\n",
        "cv.transform([\"Thor eat pizza\"]).A"
      ],
      "metadata": {
        "colab": {
          "base_uri": "https://localhost:8080/"
        },
        "id": "x_NDd9EO56rT",
        "outputId": "7b3b77a5-57d2-46ca-94e1-6d314f594b08"
      },
      "execution_count": null,
      "outputs": [
        {
          "output_type": "execute_result",
          "data": {
            "text/plain": [
              "array([[1, 1, 0, 0, 0, 1, 0, 1, 1]])"
            ]
          },
          "metadata": {},
          "execution_count": 21
        }
      ]
    },
    {
      "cell_type": "code",
      "source": [
        "cv.transform([\"Hulk eat pizza\"]).A"
      ],
      "metadata": {
        "colab": {
          "base_uri": "https://localhost:8080/"
        },
        "id": "CTjOtNrl6M38",
        "outputId": "66453510-9ae1-49a0-e39a-ff8c2d9fe147"
      },
      "execution_count": null,
      "outputs": [
        {
          "output_type": "execute_result",
          "data": {
            "text/plain": [
              "array([[1, 1, 0, 0, 0, 1, 0, 0, 0]])"
            ]
          },
          "metadata": {},
          "execution_count": 25
        }
      ]
    },
    {
      "cell_type": "markdown",
      "source": [
        "# News Category Classification Problem"
      ],
      "metadata": {
        "id": "BaTl0dgR7LTj"
      }
    },
    {
      "cell_type": "code",
      "source": [
        "import pandas as pd\n",
        "\n",
        "df = pd.read_json(\"https://github.com/codebasics/nlp-tutorials/raw/main/11_bag_of_n_grams/news_dataset.json\")\n",
        "\n",
        "\n",
        "print(df.shape)\n",
        "df.head()"
      ],
      "metadata": {
        "colab": {
          "base_uri": "https://localhost:8080/",
          "height": 224
        },
        "id": "LATBty0b6YC1",
        "outputId": "6b21cdf4-d73c-445c-a24d-c47fd7f58648"
      },
      "execution_count": null,
      "outputs": [
        {
          "output_type": "stream",
          "name": "stdout",
          "text": [
            "(12695, 2)\n"
          ]
        },
        {
          "output_type": "execute_result",
          "data": {
            "text/plain": [
              "                                                text  category\n",
              "0  Watching Schrödinger's Cat Die University of C...   SCIENCE\n",
              "1     WATCH: Freaky Vortex Opens Up In Flooded Lake    SCIENCE\n",
              "2  Entrepreneurs Today Don't Need a Big Budget to...  BUSINESS\n",
              "3  These Roads Could Recharge Your Electric Car A...  BUSINESS\n",
              "4  Civilian 'Guard' Fires Gun While 'Protecting' ...     CRIME"
            ],
            "text/html": [
              "\n",
              "  <div id=\"df-09bf05cf-2ede-462e-8fcd-da564e1f51c5\">\n",
              "    <div class=\"colab-df-container\">\n",
              "      <div>\n",
              "<style scoped>\n",
              "    .dataframe tbody tr th:only-of-type {\n",
              "        vertical-align: middle;\n",
              "    }\n",
              "\n",
              "    .dataframe tbody tr th {\n",
              "        vertical-align: top;\n",
              "    }\n",
              "\n",
              "    .dataframe thead th {\n",
              "        text-align: right;\n",
              "    }\n",
              "</style>\n",
              "<table border=\"1\" class=\"dataframe\">\n",
              "  <thead>\n",
              "    <tr style=\"text-align: right;\">\n",
              "      <th></th>\n",
              "      <th>text</th>\n",
              "      <th>category</th>\n",
              "    </tr>\n",
              "  </thead>\n",
              "  <tbody>\n",
              "    <tr>\n",
              "      <th>0</th>\n",
              "      <td>Watching Schrödinger's Cat Die University of C...</td>\n",
              "      <td>SCIENCE</td>\n",
              "    </tr>\n",
              "    <tr>\n",
              "      <th>1</th>\n",
              "      <td>WATCH: Freaky Vortex Opens Up In Flooded Lake</td>\n",
              "      <td>SCIENCE</td>\n",
              "    </tr>\n",
              "    <tr>\n",
              "      <th>2</th>\n",
              "      <td>Entrepreneurs Today Don't Need a Big Budget to...</td>\n",
              "      <td>BUSINESS</td>\n",
              "    </tr>\n",
              "    <tr>\n",
              "      <th>3</th>\n",
              "      <td>These Roads Could Recharge Your Electric Car A...</td>\n",
              "      <td>BUSINESS</td>\n",
              "    </tr>\n",
              "    <tr>\n",
              "      <th>4</th>\n",
              "      <td>Civilian 'Guard' Fires Gun While 'Protecting' ...</td>\n",
              "      <td>CRIME</td>\n",
              "    </tr>\n",
              "  </tbody>\n",
              "</table>\n",
              "</div>\n",
              "      <button class=\"colab-df-convert\" onclick=\"convertToInteractive('df-09bf05cf-2ede-462e-8fcd-da564e1f51c5')\"\n",
              "              title=\"Convert this dataframe to an interactive table.\"\n",
              "              style=\"display:none;\">\n",
              "        \n",
              "  <svg xmlns=\"http://www.w3.org/2000/svg\" height=\"24px\"viewBox=\"0 0 24 24\"\n",
              "       width=\"24px\">\n",
              "    <path d=\"M0 0h24v24H0V0z\" fill=\"none\"/>\n",
              "    <path d=\"M18.56 5.44l.94 2.06.94-2.06 2.06-.94-2.06-.94-.94-2.06-.94 2.06-2.06.94zm-11 1L8.5 8.5l.94-2.06 2.06-.94-2.06-.94L8.5 2.5l-.94 2.06-2.06.94zm10 10l.94 2.06.94-2.06 2.06-.94-2.06-.94-.94-2.06-.94 2.06-2.06.94z\"/><path d=\"M17.41 7.96l-1.37-1.37c-.4-.4-.92-.59-1.43-.59-.52 0-1.04.2-1.43.59L10.3 9.45l-7.72 7.72c-.78.78-.78 2.05 0 2.83L4 21.41c.39.39.9.59 1.41.59.51 0 1.02-.2 1.41-.59l7.78-7.78 2.81-2.81c.8-.78.8-2.07 0-2.86zM5.41 20L4 18.59l7.72-7.72 1.47 1.35L5.41 20z\"/>\n",
              "  </svg>\n",
              "      </button>\n",
              "      \n",
              "  <style>\n",
              "    .colab-df-container {\n",
              "      display:flex;\n",
              "      flex-wrap:wrap;\n",
              "      gap: 12px;\n",
              "    }\n",
              "\n",
              "    .colab-df-convert {\n",
              "      background-color: #E8F0FE;\n",
              "      border: none;\n",
              "      border-radius: 50%;\n",
              "      cursor: pointer;\n",
              "      display: none;\n",
              "      fill: #1967D2;\n",
              "      height: 32px;\n",
              "      padding: 0 0 0 0;\n",
              "      width: 32px;\n",
              "    }\n",
              "\n",
              "    .colab-df-convert:hover {\n",
              "      background-color: #E2EBFA;\n",
              "      box-shadow: 0px 1px 2px rgba(60, 64, 67, 0.3), 0px 1px 3px 1px rgba(60, 64, 67, 0.15);\n",
              "      fill: #174EA6;\n",
              "    }\n",
              "\n",
              "    [theme=dark] .colab-df-convert {\n",
              "      background-color: #3B4455;\n",
              "      fill: #D2E3FC;\n",
              "    }\n",
              "\n",
              "    [theme=dark] .colab-df-convert:hover {\n",
              "      background-color: #434B5C;\n",
              "      box-shadow: 0px 1px 3px 1px rgba(0, 0, 0, 0.15);\n",
              "      filter: drop-shadow(0px 1px 2px rgba(0, 0, 0, 0.3));\n",
              "      fill: #FFFFFF;\n",
              "    }\n",
              "  </style>\n",
              "\n",
              "      <script>\n",
              "        const buttonEl =\n",
              "          document.querySelector('#df-09bf05cf-2ede-462e-8fcd-da564e1f51c5 button.colab-df-convert');\n",
              "        buttonEl.style.display =\n",
              "          google.colab.kernel.accessAllowed ? 'block' : 'none';\n",
              "\n",
              "        async function convertToInteractive(key) {\n",
              "          const element = document.querySelector('#df-09bf05cf-2ede-462e-8fcd-da564e1f51c5');\n",
              "          const dataTable =\n",
              "            await google.colab.kernel.invokeFunction('convertToInteractive',\n",
              "                                                     [key], {});\n",
              "          if (!dataTable) return;\n",
              "\n",
              "          const docLinkHtml = 'Like what you see? Visit the ' +\n",
              "            '<a target=\"_blank\" href=https://colab.research.google.com/notebooks/data_table.ipynb>data table notebook</a>'\n",
              "            + ' to learn more about interactive tables.';\n",
              "          element.innerHTML = '';\n",
              "          dataTable['output_type'] = 'display_data';\n",
              "          await google.colab.output.renderOutput(dataTable, element);\n",
              "          const docLink = document.createElement('div');\n",
              "          docLink.innerHTML = docLinkHtml;\n",
              "          element.appendChild(docLink);\n",
              "        }\n",
              "      </script>\n",
              "    </div>\n",
              "  </div>\n",
              "  "
            ]
          },
          "metadata": {},
          "execution_count": 31
        }
      ]
    },
    {
      "cell_type": "code",
      "source": [
        "df.category.value_counts()"
      ],
      "metadata": {
        "colab": {
          "base_uri": "https://localhost:8080/"
        },
        "id": "GD2jF4_v7h6Z",
        "outputId": "eb1de575-1637-4ed0-a64c-062602e95731"
      },
      "execution_count": null,
      "outputs": [
        {
          "output_type": "execute_result",
          "data": {
            "text/plain": [
              "BUSINESS    4254\n",
              "SPORTS      4167\n",
              "CRIME       2893\n",
              "SCIENCE     1381\n",
              "Name: category, dtype: int64"
            ]
          },
          "metadata": {},
          "execution_count": 32
        }
      ]
    },
    {
      "cell_type": "code",
      "source": [
        "# handle class imbalance by undersampling\n",
        "\n",
        "min_samples = 1381\n",
        "\n",
        "df_business = df[df.category==\"BUSINESS\"].sample(min_samples, random_state=1)\n",
        "df_sports = df[df.category==\"SPORTS\"].sample(min_samples, random_state=1)\n",
        "df_crime = df[df.category==\"CRIME\"].sample(min_samples, random_state=1)\n",
        "df_science = df[df.category==\"SCIENCE\"].sample(min_samples, random_state=1)\n",
        "df_balanced = pd.concat([df_business, df_sports, df_crime, df_science], axis=0)\n",
        "df_balanced.category.value_counts()"
      ],
      "metadata": {
        "colab": {
          "base_uri": "https://localhost:8080/"
        },
        "id": "auilpfTE7tLx",
        "outputId": "d4949b00-b38a-415e-86d4-1b714b0003bf"
      },
      "execution_count": null,
      "outputs": [
        {
          "output_type": "execute_result",
          "data": {
            "text/plain": [
              "BUSINESS    1381\n",
              "SPORTS      1381\n",
              "CRIME       1381\n",
              "SCIENCE     1381\n",
              "Name: category, dtype: int64"
            ]
          },
          "metadata": {},
          "execution_count": 43
        }
      ]
    },
    {
      "cell_type": "code",
      "source": [
        "from sklearn.model_selection import train_test_split\n",
        "\n",
        "X_train, X_test, y_train, y_test = train_test_split(\n",
        "    df_balanced.text,\n",
        "    df_balanced.category,\n",
        "    test_size=0.2,\n",
        "    random_state=1,\n",
        "    stratify=df_balanced.category\n",
        ")\n",
        "\n",
        "\n",
        "y_train.value_counts()"
      ],
      "metadata": {
        "colab": {
          "base_uri": "https://localhost:8080/"
        },
        "id": "wcSFEE_V8Sg7",
        "outputId": "6b2ad012-1e01-4523-85eb-4a4ab6f75b33"
      },
      "execution_count": null,
      "outputs": [
        {
          "output_type": "execute_result",
          "data": {
            "text/plain": [
              "BUSINESS    1105\n",
              "SCIENCE     1105\n",
              "SPORTS      1105\n",
              "CRIME       1104\n",
              "Name: category, dtype: int64"
            ]
          },
          "metadata": {},
          "execution_count": 44
        }
      ]
    },
    {
      "cell_type": "code",
      "source": [
        "y_test.value_counts()"
      ],
      "metadata": {
        "colab": {
          "base_uri": "https://localhost:8080/"
        },
        "id": "spOIlSNW9XCT",
        "outputId": "7f4cbc53-dc73-481b-dc28-552e603b4ff5"
      },
      "execution_count": null,
      "outputs": [
        {
          "output_type": "execute_result",
          "data": {
            "text/plain": [
              "CRIME       277\n",
              "SPORTS      276\n",
              "BUSINESS    276\n",
              "SCIENCE     276\n",
              "Name: category, dtype: int64"
            ]
          },
          "metadata": {},
          "execution_count": 45
        }
      ]
    },
    {
      "cell_type": "code",
      "source": [
        "from sklearn.pipeline import make_pipeline\n",
        "from sklearn.metrics import classification_report\n",
        "from sklearn.naive_bayes import MultinomialNB\n",
        "\n",
        "\n",
        "clf = make_pipeline(\n",
        "    CountVectorizer(ngram_range=(1, 1)), # using default\n",
        "    MultinomialNB()\n",
        ")\n",
        "\n",
        "clf.fit(X_train, y_train)\n",
        "\n",
        "y_pred = clf.predict(X_test)\n",
        "print(classification_report(y_test, y_pred))\n",
        "\n",
        "display(y_pred[10:15], y_test[10:15].to_numpy())"
      ],
      "metadata": {
        "colab": {
          "base_uri": "https://localhost:8080/",
          "height": 243
        },
        "id": "OVAS9emw9oaQ",
        "outputId": "69701897-5308-43ba-c7ab-cda8ea4702d6"
      },
      "execution_count": null,
      "outputs": [
        {
          "output_type": "stream",
          "name": "stdout",
          "text": [
            "              precision    recall  f1-score   support\n",
            "\n",
            "    BUSINESS       0.78      0.88      0.83       276\n",
            "       CRIME       0.87      0.92      0.90       277\n",
            "     SCIENCE       0.89      0.83      0.86       276\n",
            "      SPORTS       0.92      0.81      0.86       276\n",
            "\n",
            "    accuracy                           0.86      1105\n",
            "   macro avg       0.87      0.86      0.86      1105\n",
            "weighted avg       0.87      0.86      0.86      1105\n",
            "\n"
          ]
        },
        {
          "output_type": "display_data",
          "data": {
            "text/plain": [
              "array(['SCIENCE', 'CRIME', 'CRIME', 'BUSINESS', 'CRIME'], dtype='<U8')"
            ]
          },
          "metadata": {}
        },
        {
          "output_type": "display_data",
          "data": {
            "text/plain": [
              "array(['SCIENCE', 'CRIME', 'CRIME', 'BUSINESS', 'CRIME'], dtype=object)"
            ]
          },
          "metadata": {}
        }
      ]
    },
    {
      "cell_type": "code",
      "source": [
        "clf = make_pipeline(\n",
        "    CountVectorizer(ngram_range=(1, 2)), # using 2 nrgam\n",
        "    MultinomialNB()\n",
        ")\n",
        "\n",
        "clf.fit(X_train, y_train)\n",
        "\n",
        "y_pred = clf.predict(X_test)\n",
        "print(classification_report(y_test, y_pred))\n",
        "\n",
        "display(y_pred[10:15], y_test[10:15].to_numpy())"
      ],
      "metadata": {
        "colab": {
          "base_uri": "https://localhost:8080/",
          "height": 243
        },
        "id": "8yaNxhl__ERh",
        "outputId": "e360c495-95fd-4d38-f648-4d084f6e5235"
      },
      "execution_count": null,
      "outputs": [
        {
          "output_type": "stream",
          "name": "stdout",
          "text": [
            "              precision    recall  f1-score   support\n",
            "\n",
            "    BUSINESS       0.70      0.91      0.79       276\n",
            "       CRIME       0.87      0.90      0.88       277\n",
            "     SCIENCE       0.89      0.76      0.82       276\n",
            "      SPORTS       0.92      0.75      0.83       276\n",
            "\n",
            "    accuracy                           0.83      1105\n",
            "   macro avg       0.84      0.83      0.83      1105\n",
            "weighted avg       0.84      0.83      0.83      1105\n",
            "\n"
          ]
        },
        {
          "output_type": "display_data",
          "data": {
            "text/plain": [
              "array(['SCIENCE', 'CRIME', 'CRIME', 'BUSINESS', 'CRIME'], dtype='<U8')"
            ]
          },
          "metadata": {}
        },
        {
          "output_type": "display_data",
          "data": {
            "text/plain": [
              "array(['SCIENCE', 'CRIME', 'CRIME', 'BUSINESS', 'CRIME'], dtype=object)"
            ]
          },
          "metadata": {}
        }
      ]
    },
    {
      "cell_type": "code",
      "source": [
        "clf = make_pipeline(\n",
        "    CountVectorizer(ngram_range=(1, 3)), # using 3 nrgam\n",
        "    MultinomialNB()\n",
        ")\n",
        "\n",
        "clf.fit(X_train, y_train)\n",
        "\n",
        "y_pred = clf.predict(X_test)\n",
        "print(classification_report(y_test, y_pred))\n",
        "\n",
        "display(y_pred[10:15], y_test[10:15].to_numpy())"
      ],
      "metadata": {
        "colab": {
          "base_uri": "https://localhost:8080/",
          "height": 243
        },
        "id": "_qk0aI_E_w0y",
        "outputId": "35dbd048-d7ca-42c4-ba09-127189a37758"
      },
      "execution_count": null,
      "outputs": [
        {
          "output_type": "stream",
          "name": "stdout",
          "text": [
            "              precision    recall  f1-score   support\n",
            "\n",
            "    BUSINESS       0.68      0.91      0.78       276\n",
            "       CRIME       0.87      0.89      0.88       277\n",
            "     SCIENCE       0.89      0.75      0.81       276\n",
            "      SPORTS       0.92      0.73      0.81       276\n",
            "\n",
            "    accuracy                           0.82      1105\n",
            "   macro avg       0.84      0.82      0.82      1105\n",
            "weighted avg       0.84      0.82      0.82      1105\n",
            "\n"
          ]
        },
        {
          "output_type": "display_data",
          "data": {
            "text/plain": [
              "array(['SCIENCE', 'CRIME', 'CRIME', 'BUSINESS', 'CRIME'], dtype='<U8')"
            ]
          },
          "metadata": {}
        },
        {
          "output_type": "display_data",
          "data": {
            "text/plain": [
              "array(['SCIENCE', 'CRIME', 'CRIME', 'BUSINESS', 'CRIME'], dtype=object)"
            ]
          },
          "metadata": {}
        }
      ]
    },
    {
      "cell_type": "markdown",
      "source": [
        "# Using pre-processed text"
      ],
      "metadata": {
        "id": "31DSbuTtASa1"
      }
    },
    {
      "cell_type": "code",
      "source": [
        "df_balanced['preprocessed_text'] = df_balanced['text'].apply(preprocess)\n",
        "\n",
        "df_balanced.head()"
      ],
      "metadata": {
        "colab": {
          "base_uri": "https://localhost:8080/",
          "height": 250
        },
        "id": "DHSi5BF8__-7",
        "outputId": "8dd0bcc5-3134-46a7-b11a-ad0d7ca1af40"
      },
      "execution_count": null,
      "outputs": [
        {
          "output_type": "execute_result",
          "data": {
            "text/plain": [
              "                                                   text  category  \\\n",
              "9625  Taking Your Startup Public Is Fraught With Neg...  BUSINESS   \n",
              "7958  Women in Business: Q&A with Donna Josephson Ch...  BUSINESS   \n",
              "691   Ladies From the Shark Tank Excellent advice fr...  BUSINESS   \n",
              "4905  Farmer Forced To Dump Insane Amount Of Gorgeou...  BUSINESS   \n",
              "8899  Why You Should Care About The Backlash Against...  BUSINESS   \n",
              "\n",
              "                                      preprocessed_text  \n",
              "9625  take Startup Public fraught negative old day e...  \n",
              "7958  woman Business Q&A Donna Josephson Chief Marke...  \n",
              "691   lady Shark Tank Excellent advice lady continue...  \n",
              "4905  farmer force dump Insane Gorgeous Cherries che...  \n",
              "8899  care Backlash Holiday Creep term holiday creep...  "
            ],
            "text/html": [
              "\n",
              "  <div id=\"df-b48f93b9-f793-485f-b047-aa52fef04d38\">\n",
              "    <div class=\"colab-df-container\">\n",
              "      <div>\n",
              "<style scoped>\n",
              "    .dataframe tbody tr th:only-of-type {\n",
              "        vertical-align: middle;\n",
              "    }\n",
              "\n",
              "    .dataframe tbody tr th {\n",
              "        vertical-align: top;\n",
              "    }\n",
              "\n",
              "    .dataframe thead th {\n",
              "        text-align: right;\n",
              "    }\n",
              "</style>\n",
              "<table border=\"1\" class=\"dataframe\">\n",
              "  <thead>\n",
              "    <tr style=\"text-align: right;\">\n",
              "      <th></th>\n",
              "      <th>text</th>\n",
              "      <th>category</th>\n",
              "      <th>preprocessed_text</th>\n",
              "    </tr>\n",
              "  </thead>\n",
              "  <tbody>\n",
              "    <tr>\n",
              "      <th>9625</th>\n",
              "      <td>Taking Your Startup Public Is Fraught With Neg...</td>\n",
              "      <td>BUSINESS</td>\n",
              "      <td>take Startup Public fraught negative old day e...</td>\n",
              "    </tr>\n",
              "    <tr>\n",
              "      <th>7958</th>\n",
              "      <td>Women in Business: Q&amp;A with Donna Josephson Ch...</td>\n",
              "      <td>BUSINESS</td>\n",
              "      <td>woman Business Q&amp;A Donna Josephson Chief Marke...</td>\n",
              "    </tr>\n",
              "    <tr>\n",
              "      <th>691</th>\n",
              "      <td>Ladies From the Shark Tank Excellent advice fr...</td>\n",
              "      <td>BUSINESS</td>\n",
              "      <td>lady Shark Tank Excellent advice lady continue...</td>\n",
              "    </tr>\n",
              "    <tr>\n",
              "      <th>4905</th>\n",
              "      <td>Farmer Forced To Dump Insane Amount Of Gorgeou...</td>\n",
              "      <td>BUSINESS</td>\n",
              "      <td>farmer force dump Insane Gorgeous Cherries che...</td>\n",
              "    </tr>\n",
              "    <tr>\n",
              "      <th>8899</th>\n",
              "      <td>Why You Should Care About The Backlash Against...</td>\n",
              "      <td>BUSINESS</td>\n",
              "      <td>care Backlash Holiday Creep term holiday creep...</td>\n",
              "    </tr>\n",
              "  </tbody>\n",
              "</table>\n",
              "</div>\n",
              "      <button class=\"colab-df-convert\" onclick=\"convertToInteractive('df-b48f93b9-f793-485f-b047-aa52fef04d38')\"\n",
              "              title=\"Convert this dataframe to an interactive table.\"\n",
              "              style=\"display:none;\">\n",
              "        \n",
              "  <svg xmlns=\"http://www.w3.org/2000/svg\" height=\"24px\"viewBox=\"0 0 24 24\"\n",
              "       width=\"24px\">\n",
              "    <path d=\"M0 0h24v24H0V0z\" fill=\"none\"/>\n",
              "    <path d=\"M18.56 5.44l.94 2.06.94-2.06 2.06-.94-2.06-.94-.94-2.06-.94 2.06-2.06.94zm-11 1L8.5 8.5l.94-2.06 2.06-.94-2.06-.94L8.5 2.5l-.94 2.06-2.06.94zm10 10l.94 2.06.94-2.06 2.06-.94-2.06-.94-.94-2.06-.94 2.06-2.06.94z\"/><path d=\"M17.41 7.96l-1.37-1.37c-.4-.4-.92-.59-1.43-.59-.52 0-1.04.2-1.43.59L10.3 9.45l-7.72 7.72c-.78.78-.78 2.05 0 2.83L4 21.41c.39.39.9.59 1.41.59.51 0 1.02-.2 1.41-.59l7.78-7.78 2.81-2.81c.8-.78.8-2.07 0-2.86zM5.41 20L4 18.59l7.72-7.72 1.47 1.35L5.41 20z\"/>\n",
              "  </svg>\n",
              "      </button>\n",
              "      \n",
              "  <style>\n",
              "    .colab-df-container {\n",
              "      display:flex;\n",
              "      flex-wrap:wrap;\n",
              "      gap: 12px;\n",
              "    }\n",
              "\n",
              "    .colab-df-convert {\n",
              "      background-color: #E8F0FE;\n",
              "      border: none;\n",
              "      border-radius: 50%;\n",
              "      cursor: pointer;\n",
              "      display: none;\n",
              "      fill: #1967D2;\n",
              "      height: 32px;\n",
              "      padding: 0 0 0 0;\n",
              "      width: 32px;\n",
              "    }\n",
              "\n",
              "    .colab-df-convert:hover {\n",
              "      background-color: #E2EBFA;\n",
              "      box-shadow: 0px 1px 2px rgba(60, 64, 67, 0.3), 0px 1px 3px 1px rgba(60, 64, 67, 0.15);\n",
              "      fill: #174EA6;\n",
              "    }\n",
              "\n",
              "    [theme=dark] .colab-df-convert {\n",
              "      background-color: #3B4455;\n",
              "      fill: #D2E3FC;\n",
              "    }\n",
              "\n",
              "    [theme=dark] .colab-df-convert:hover {\n",
              "      background-color: #434B5C;\n",
              "      box-shadow: 0px 1px 3px 1px rgba(0, 0, 0, 0.15);\n",
              "      filter: drop-shadow(0px 1px 2px rgba(0, 0, 0, 0.3));\n",
              "      fill: #FFFFFF;\n",
              "    }\n",
              "  </style>\n",
              "\n",
              "      <script>\n",
              "        const buttonEl =\n",
              "          document.querySelector('#df-b48f93b9-f793-485f-b047-aa52fef04d38 button.colab-df-convert');\n",
              "        buttonEl.style.display =\n",
              "          google.colab.kernel.accessAllowed ? 'block' : 'none';\n",
              "\n",
              "        async function convertToInteractive(key) {\n",
              "          const element = document.querySelector('#df-b48f93b9-f793-485f-b047-aa52fef04d38');\n",
              "          const dataTable =\n",
              "            await google.colab.kernel.invokeFunction('convertToInteractive',\n",
              "                                                     [key], {});\n",
              "          if (!dataTable) return;\n",
              "\n",
              "          const docLinkHtml = 'Like what you see? Visit the ' +\n",
              "            '<a target=\"_blank\" href=https://colab.research.google.com/notebooks/data_table.ipynb>data table notebook</a>'\n",
              "            + ' to learn more about interactive tables.';\n",
              "          element.innerHTML = '';\n",
              "          dataTable['output_type'] = 'display_data';\n",
              "          await google.colab.output.renderOutput(dataTable, element);\n",
              "          const docLink = document.createElement('div');\n",
              "          docLink.innerHTML = docLinkHtml;\n",
              "          element.appendChild(docLink);\n",
              "        }\n",
              "      </script>\n",
              "    </div>\n",
              "  </div>\n",
              "  "
            ]
          },
          "metadata": {},
          "execution_count": 55
        }
      ]
    },
    {
      "cell_type": "code",
      "source": [
        "X_train, X_test, y_train, y_test = train_test_split(\n",
        "    df_balanced.preprocessed_text,\n",
        "    df_balanced.category,\n",
        "    test_size=0.2,\n",
        "    random_state=1,\n",
        "    stratify=df_balanced.category\n",
        ")\n",
        "\n",
        "\n",
        "y_train.value_counts()"
      ],
      "metadata": {
        "colab": {
          "base_uri": "https://localhost:8080/"
        },
        "id": "Mj8MQvGqBJC1",
        "outputId": "72d840a7-9d30-4edc-fdfd-97a53b3d6d3e"
      },
      "execution_count": null,
      "outputs": [
        {
          "output_type": "execute_result",
          "data": {
            "text/plain": [
              "BUSINESS    1105\n",
              "SCIENCE     1105\n",
              "SPORTS      1105\n",
              "CRIME       1104\n",
              "Name: category, dtype: int64"
            ]
          },
          "metadata": {},
          "execution_count": 56
        }
      ]
    },
    {
      "cell_type": "code",
      "source": [
        "clf = make_pipeline(\n",
        "    CountVectorizer(ngram_range=(1, 1)), # using default\n",
        "    MultinomialNB()\n",
        ")\n",
        "\n",
        "clf.fit(X_train, y_train)\n",
        "\n",
        "y_pred = clf.predict(X_test)\n",
        "print(classification_report(y_test, y_pred))\n",
        "\n",
        "display(y_pred[10:15], y_test[10:15].to_numpy())"
      ],
      "metadata": {
        "colab": {
          "base_uri": "https://localhost:8080/",
          "height": 243
        },
        "id": "zch-6CV6Ah9W",
        "outputId": "2c92f733-a723-48c6-986b-b7d3d8e38ea6"
      },
      "execution_count": null,
      "outputs": [
        {
          "output_type": "stream",
          "name": "stdout",
          "text": [
            "              precision    recall  f1-score   support\n",
            "\n",
            "    BUSINESS       0.82      0.84      0.83       276\n",
            "       CRIME       0.84      0.93      0.89       277\n",
            "     SCIENCE       0.87      0.83      0.85       276\n",
            "      SPORTS       0.91      0.84      0.87       276\n",
            "\n",
            "    accuracy                           0.86      1105\n",
            "   macro avg       0.86      0.86      0.86      1105\n",
            "weighted avg       0.86      0.86      0.86      1105\n",
            "\n"
          ]
        },
        {
          "output_type": "display_data",
          "data": {
            "text/plain": [
              "array(['SCIENCE', 'CRIME', 'CRIME', 'BUSINESS', 'CRIME'], dtype='<U8')"
            ]
          },
          "metadata": {}
        },
        {
          "output_type": "display_data",
          "data": {
            "text/plain": [
              "array(['SCIENCE', 'CRIME', 'CRIME', 'BUSINESS', 'CRIME'], dtype=object)"
            ]
          },
          "metadata": {}
        }
      ]
    },
    {
      "cell_type": "code",
      "source": [
        "clf = make_pipeline(\n",
        "    CountVectorizer(ngram_range=(1, 2)), # using 2 nrgam\n",
        "    MultinomialNB()\n",
        ")\n",
        "\n",
        "clf.fit(X_train, y_train)\n",
        "\n",
        "y_pred = clf.predict(X_test)\n",
        "print(classification_report(y_test, y_pred))\n",
        "\n",
        "display(y_pred[10:15], y_test[10:15].to_numpy())"
      ],
      "metadata": {
        "colab": {
          "base_uri": "https://localhost:8080/",
          "height": 243
        },
        "id": "VgQQisR9BQdL",
        "outputId": "fd692ddf-b874-4a37-f49a-107314c03032"
      },
      "execution_count": null,
      "outputs": [
        {
          "output_type": "stream",
          "name": "stdout",
          "text": [
            "              precision    recall  f1-score   support\n",
            "\n",
            "    BUSINESS       0.81      0.86      0.83       276\n",
            "       CRIME       0.84      0.92      0.88       277\n",
            "     SCIENCE       0.89      0.83      0.86       276\n",
            "      SPORTS       0.91      0.83      0.87       276\n",
            "\n",
            "    accuracy                           0.86      1105\n",
            "   macro avg       0.86      0.86      0.86      1105\n",
            "weighted avg       0.86      0.86      0.86      1105\n",
            "\n"
          ]
        },
        {
          "output_type": "display_data",
          "data": {
            "text/plain": [
              "array(['SCIENCE', 'CRIME', 'CRIME', 'BUSINESS', 'CRIME'], dtype='<U8')"
            ]
          },
          "metadata": {}
        },
        {
          "output_type": "display_data",
          "data": {
            "text/plain": [
              "array(['SCIENCE', 'CRIME', 'CRIME', 'BUSINESS', 'CRIME'], dtype=object)"
            ]
          },
          "metadata": {}
        }
      ]
    },
    {
      "cell_type": "code",
      "source": [
        "clf = make_pipeline(\n",
        "    CountVectorizer(ngram_range=(1, 3)), # using 3 nrgam\n",
        "    MultinomialNB()\n",
        ")\n",
        "\n",
        "clf.fit(X_train, y_train)\n",
        "\n",
        "y_pred = clf.predict(X_test)\n",
        "print(classification_report(y_test, y_pred))\n",
        "\n",
        "display(y_pred[10:15], y_test[10:15].to_numpy())"
      ],
      "metadata": {
        "colab": {
          "base_uri": "https://localhost:8080/",
          "height": 243
        },
        "id": "EIz2XqNaBXhc",
        "outputId": "75695459-9d32-4f9e-9dd3-7fcf5b163511"
      },
      "execution_count": null,
      "outputs": [
        {
          "output_type": "stream",
          "name": "stdout",
          "text": [
            "              precision    recall  f1-score   support\n",
            "\n",
            "    BUSINESS       0.80      0.86      0.83       276\n",
            "       CRIME       0.84      0.92      0.88       277\n",
            "     SCIENCE       0.90      0.83      0.86       276\n",
            "      SPORTS       0.90      0.82      0.86       276\n",
            "\n",
            "    accuracy                           0.86      1105\n",
            "   macro avg       0.86      0.86      0.86      1105\n",
            "weighted avg       0.86      0.86      0.86      1105\n",
            "\n"
          ]
        },
        {
          "output_type": "display_data",
          "data": {
            "text/plain": [
              "array(['SCIENCE', 'CRIME', 'CRIME', 'BUSINESS', 'CRIME'], dtype='<U8')"
            ]
          },
          "metadata": {}
        },
        {
          "output_type": "display_data",
          "data": {
            "text/plain": [
              "array(['SCIENCE', 'CRIME', 'CRIME', 'BUSINESS', 'CRIME'], dtype=object)"
            ]
          },
          "metadata": {}
        }
      ]
    },
    {
      "cell_type": "code",
      "source": [
        "from sklearn.metrics import confusion_matrix\n",
        "import seaborn as sns\n",
        "import matplotlib.pyplot as plt\n",
        "\n",
        "\n",
        "cm = confusion_matrix(y_test, y_pred)\n",
        "\n",
        "plt.figure(figsize=(15, 10))\n",
        "sns.heatmap(cm, annot=True, fmt=\"d\")\n",
        "plt.xlabel(\"Predictions\")\n",
        "plt.ylabel(\"Truth\")\n",
        "plt.show()"
      ],
      "metadata": {
        "colab": {
          "base_uri": "https://localhost:8080/",
          "height": 606
        },
        "id": "uxzwsfK5BZsj",
        "outputId": "d8efe0f2-0712-429d-ae3a-37efe2d8f9a4"
      },
      "execution_count": null,
      "outputs": [
        {
          "output_type": "display_data",
          "data": {
            "text/plain": [
              "<Figure size 1080x720 with 2 Axes>"
            ],
            "image/png": "[encoded data removed]"
          },
          "metadata": {
            "needs_background": "light"
          }
        }
      ]
    },
    {
      "cell_type": "markdown",
      "source": [
        "# Lets solve exercise"
      ],
      "metadata": {
        "id": "Aqe7ROziDCEX"
      }
    },
    {
      "cell_type": "code",
      "source": [
        "import tensorflow as tf\n",
        "\n",
        "file_path = tf.keras.utils.get_file(\"data.csv\", \"https://github.com/codebasics/nlp-tutorials/raw/main/11_bag_of_n_grams/Fake_Real_Data.csv\")\n",
        "file_path"
      ],
      "metadata": {
        "colab": {
          "base_uri": "https://localhost:8080/",
          "height": 35
        },
        "id": "FuZ_ZkPXDBAg",
        "outputId": "183534a9-1f1e-4cda-8cd5-e3b1ebcb6c3f"
      },
      "execution_count": 82,
      "outputs": [
        {
          "output_type": "execute_result",
          "data": {
            "text/plain": [
              "'/root/.keras/datasets/data.csv'"
            ],
            "application/vnd.google.colaboratory.intrinsic+json": {
              "type": "string"
            }
          },
          "metadata": {},
          "execution_count": 82
        }
      ]
    },
    {
      "cell_type": "code",
      "source": [
        "df = pd.read_csv(file_path)\n",
        "\n",
        "df.head()"
      ],
      "metadata": {
        "colab": {
          "base_uri": "https://localhost:8080/",
          "height": 206
        },
        "id": "vmcFnZPDDP6z",
        "outputId": "58ccbe90-9107-4781-c550-d23364101927"
      },
      "execution_count": null,
      "outputs": [
        {
          "output_type": "execute_result",
          "data": {
            "text/plain": [
              "                                                Text label\n",
              "0   Top Trump Surrogate BRUTALLY Stabs Him In The...  Fake\n",
              "1  U.S. conservative leader optimistic of common ...  Real\n",
              "2  Trump proposes U.S. tax overhaul, stirs concer...  Real\n",
              "3   Court Forces Ohio To Allow Millions Of Illega...  Fake\n",
              "4  Democrats say Trump agrees to work on immigrat...  Real"
            ],
            "text/html": [
              "\n",
              "  <div id=\"df-f51caef2-f873-43e6-ba25-9115851dc6fa\">\n",
              "    <div class=\"colab-df-container\">\n",
              "      <div>\n",
              "<style scoped>\n",
              "    .dataframe tbody tr th:only-of-type {\n",
              "        vertical-align: middle;\n",
              "    }\n",
              "\n",
              "    .dataframe tbody tr th {\n",
              "        vertical-align: top;\n",
              "    }\n",
              "\n",
              "    .dataframe thead th {\n",
              "        text-align: right;\n",
              "    }\n",
              "</style>\n",
              "<table border=\"1\" class=\"dataframe\">\n",
              "  <thead>\n",
              "    <tr style=\"text-align: right;\">\n",
              "      <th></th>\n",
              "      <th>Text</th>\n",
              "      <th>label</th>\n",
              "    </tr>\n",
              "  </thead>\n",
              "  <tbody>\n",
              "    <tr>\n",
              "      <th>0</th>\n",
              "      <td>Top Trump Surrogate BRUTALLY Stabs Him In The...</td>\n",
              "      <td>Fake</td>\n",
              "    </tr>\n",
              "    <tr>\n",
              "      <th>1</th>\n",
              "      <td>U.S. conservative leader optimistic of common ...</td>\n",
              "      <td>Real</td>\n",
              "    </tr>\n",
              "    <tr>\n",
              "      <th>2</th>\n",
              "      <td>Trump proposes U.S. tax overhaul, stirs concer...</td>\n",
              "      <td>Real</td>\n",
              "    </tr>\n",
              "    <tr>\n",
              "      <th>3</th>\n",
              "      <td>Court Forces Ohio To Allow Millions Of Illega...</td>\n",
              "      <td>Fake</td>\n",
              "    </tr>\n",
              "    <tr>\n",
              "      <th>4</th>\n",
              "      <td>Democrats say Trump agrees to work on immigrat...</td>\n",
              "      <td>Real</td>\n",
              "    </tr>\n",
              "  </tbody>\n",
              "</table>\n",
              "</div>\n",
              "      <button class=\"colab-df-convert\" onclick=\"convertToInteractive('df-f51caef2-f873-43e6-ba25-9115851dc6fa')\"\n",
              "              title=\"Convert this dataframe to an interactive table.\"\n",
              "              style=\"display:none;\">\n",
              "        \n",
              "  <svg xmlns=\"http://www.w3.org/2000/svg\" height=\"24px\"viewBox=\"0 0 24 24\"\n",
              "       width=\"24px\">\n",
              "    <path d=\"M0 0h24v24H0V0z\" fill=\"none\"/>\n",
              "    <path d=\"M18.56 5.44l.94 2.06.94-2.06 2.06-.94-2.06-.94-.94-2.06-.94 2.06-2.06.94zm-11 1L8.5 8.5l.94-2.06 2.06-.94-2.06-.94L8.5 2.5l-.94 2.06-2.06.94zm10 10l.94 2.06.94-2.06 2.06-.94-2.06-.94-.94-2.06-.94 2.06-2.06.94z\"/><path d=\"M17.41 7.96l-1.37-1.37c-.4-.4-.92-.59-1.43-.59-.52 0-1.04.2-1.43.59L10.3 9.45l-7.72 7.72c-.78.78-.78 2.05 0 2.83L4 21.41c.39.39.9.59 1.41.59.51 0 1.02-.2 1.41-.59l7.78-7.78 2.81-2.81c.8-.78.8-2.07 0-2.86zM5.41 20L4 18.59l7.72-7.72 1.47 1.35L5.41 20z\"/>\n",
              "  </svg>\n",
              "      </button>\n",
              "      \n",
              "  <style>\n",
              "    .colab-df-container {\n",
              "      display:flex;\n",
              "      flex-wrap:wrap;\n",
              "      gap: 12px;\n",
              "    }\n",
              "\n",
              "    .colab-df-convert {\n",
              "      background-color: #E8F0FE;\n",
              "      border: none;\n",
              "      border-radius: 50%;\n",
              "      cursor: pointer;\n",
              "      display: none;\n",
              "      fill: #1967D2;\n",
              "      height: 32px;\n",
              "      padding: 0 0 0 0;\n",
              "      width: 32px;\n",
              "    }\n",
              "\n",
              "    .colab-df-convert:hover {\n",
              "      background-color: #E2EBFA;\n",
              "      box-shadow: 0px 1px 2px rgba(60, 64, 67, 0.3), 0px 1px 3px 1px rgba(60, 64, 67, 0.15);\n",
              "      fill: #174EA6;\n",
              "    }\n",
              "\n",
              "    [theme=dark] .colab-df-convert {\n",
              "      background-color: #3B4455;\n",
              "      fill: #D2E3FC;\n",
              "    }\n",
              "\n",
              "    [theme=dark] .colab-df-convert:hover {\n",
              "      background-color: #434B5C;\n",
              "      box-shadow: 0px 1px 3px 1px rgba(0, 0, 0, 0.15);\n",
              "      filter: drop-shadow(0px 1px 2px rgba(0, 0, 0, 0.3));\n",
              "      fill: #FFFFFF;\n",
              "    }\n",
              "  </style>\n",
              "\n",
              "      <script>\n",
              "        const buttonEl =\n",
              "          document.querySelector('#df-f51caef2-f873-43e6-ba25-9115851dc6fa button.colab-df-convert');\n",
              "        buttonEl.style.display =\n",
              "          google.colab.kernel.accessAllowed ? 'block' : 'none';\n",
              "\n",
              "        async function convertToInteractive(key) {\n",
              "          const element = document.querySelector('#df-f51caef2-f873-43e6-ba25-9115851dc6fa');\n",
              "          const dataTable =\n",
              "            await google.colab.kernel.invokeFunction('convertToInteractive',\n",
              "                                                     [key], {});\n",
              "          if (!dataTable) return;\n",
              "\n",
              "          const docLinkHtml = 'Like what you see? Visit the ' +\n",
              "            '<a target=\"_blank\" href=https://colab.research.google.com/notebooks/data_table.ipynb>data table notebook</a>'\n",
              "            + ' to learn more about interactive tables.';\n",
              "          element.innerHTML = '';\n",
              "          dataTable['output_type'] = 'display_data';\n",
              "          await google.colab.output.renderOutput(dataTable, element);\n",
              "          const docLink = document.createElement('div');\n",
              "          docLink.innerHTML = docLinkHtml;\n",
              "          element.appendChild(docLink);\n",
              "        }\n",
              "      </script>\n",
              "    </div>\n",
              "  </div>\n",
              "  "
            ]
          },
          "metadata": {},
          "execution_count": 65
        }
      ]
    },
    {
      "cell_type": "code",
      "source": [
        "df.label.value_counts()"
      ],
      "metadata": {
        "colab": {
          "base_uri": "https://localhost:8080/"
        },
        "id": "xAHbduD6Dbi4",
        "outputId": "032a86c7-cf97-4046-a448-1b4de55e2e3e"
      },
      "execution_count": null,
      "outputs": [
        {
          "output_type": "execute_result",
          "data": {
            "text/plain": [
              "Fake    5000\n",
              "Real    4900\n",
              "Name: label, dtype: int64"
            ]
          },
          "metadata": {},
          "execution_count": 66
        }
      ]
    },
    {
      "cell_type": "code",
      "source": [
        "X_train, X_test, y_train, y_test = train_test_split(\n",
        "    df.Text,\n",
        "    df.label,\n",
        "    test_size=0.2,\n",
        "    random_state=1,\n",
        "    stratify=df.label\n",
        ")\n",
        "\n",
        "y_train.value_counts()"
      ],
      "metadata": {
        "colab": {
          "base_uri": "https://localhost:8080/"
        },
        "id": "FLcYsGaBECzm",
        "outputId": "397432ea-2e32-4b46-9b38-510300a2ee5c"
      },
      "execution_count": null,
      "outputs": [
        {
          "output_type": "execute_result",
          "data": {
            "text/plain": [
              "Fake    4000\n",
              "Real    3920\n",
              "Name: label, dtype: int64"
            ]
          },
          "metadata": {},
          "execution_count": 69
        }
      ]
    },
    {
      "cell_type": "code",
      "source": [
        "clf = make_pipeline(\n",
        "    CountVectorizer(ngram_range=(1, 3)),\n",
        "    MultinomialNB(),\n",
        ")\n",
        "\n",
        "clf.fit(X_train, y_train)\n",
        "\n",
        "y_pred = clf.predict(X_test)\n",
        "\n",
        "display(\n",
        "    y_test[10:15].to_numpy(),\n",
        "    y_pred[10:15]\n",
        ")\n",
        "\n",
        "print(classification_report(y_test, y_pred))"
      ],
      "metadata": {
        "colab": {
          "base_uri": "https://localhost:8080/",
          "height": 208
        },
        "id": "bnto85lDDkhK",
        "outputId": "2297be15-f6b5-42a6-bc1f-aaf2ec274f7a"
      },
      "execution_count": null,
      "outputs": [
        {
          "output_type": "display_data",
          "data": {
            "text/plain": [
              "array(['Fake', 'Fake', 'Fake', 'Fake', 'Fake'], dtype=object)"
            ]
          },
          "metadata": {}
        },
        {
          "output_type": "display_data",
          "data": {
            "text/plain": [
              "array(['Fake', 'Fake', 'Fake', 'Fake', 'Fake'], dtype='<U4')"
            ]
          },
          "metadata": {}
        },
        {
          "output_type": "stream",
          "name": "stdout",
          "text": [
            "              precision    recall  f1-score   support\n",
            "\n",
            "        Fake       0.99      0.99      0.99      1000\n",
            "        Real       0.99      0.99      0.99       980\n",
            "\n",
            "    accuracy                           0.99      1980\n",
            "   macro avg       0.99      0.99      0.99      1980\n",
            "weighted avg       0.99      0.99      0.99      1980\n",
            "\n"
          ]
        }
      ]
    },
    {
      "cell_type": "code",
      "source": [
        "cm = confusion_matrix(y_test, y_pred)\n",
        "cm"
      ],
      "metadata": {
        "colab": {
          "base_uri": "https://localhost:8080/"
        },
        "id": "ErX9wqZKDvk7",
        "outputId": "dc8d60d6-9108-43cc-8015-6048c9783437"
      },
      "execution_count": null,
      "outputs": [
        {
          "output_type": "execute_result",
          "data": {
            "text/plain": [
              "array([[992,   8],\n",
              "       [ 12, 968]])"
            ]
          },
          "metadata": {},
          "execution_count": 72
        }
      ]
    },
    {
      "cell_type": "code",
      "source": [
        "cv = clf.steps[0][1]\n",
        "\n",
        "len(cv.vocabulary_.keys())"
      ],
      "metadata": {
        "colab": {
          "base_uri": "https://localhost:8080/"
        },
        "id": "JLbgQmw8FlgC",
        "outputId": "dde2b12d-b847-4b2b-d92d-5244a7807bf6"
      },
      "execution_count": null,
      "outputs": [
        {
          "output_type": "execute_result",
          "data": {
            "text/plain": [
              "3006332"
            ]
          },
          "metadata": {},
          "execution_count": 79
        }
      ]
    }
  ]
}