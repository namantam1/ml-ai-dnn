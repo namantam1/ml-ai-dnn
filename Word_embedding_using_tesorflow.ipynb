{
  "nbformat": 4,
  "nbformat_minor": 0,
  "metadata": {
    "colab": {
      "provenance": [],
      "authorship_tag": "ABX9TyPV77qUgAf7y5t2OTJDInL0",
      "include_colab_link": true
    },
    "kernelspec": {
      "name": "python3",
      "display_name": "Python 3"
    },
    "language_info": {
      "name": "python"
    }
  },
  "cells": [
    {
      "cell_type": "markdown",
      "metadata": {
        "id": "view-in-github",
        "colab_type": "text"
      },
      "source": [
        "<a href=\"https://colab.research.google.com/github/namantam1/ml-ai-dnn/blob/main/Word_embedding_using_tesorflow.ipynb\" target=\"_parent\"><img src=\"https://colab.research.google.com/assets/colab-badge.svg\" alt=\"Open In Colab\"/></a>"
      ]
    },
    {
      "cell_type": "markdown",
      "source": [
        "# Supervised Learning"
      ],
      "metadata": {
        "id": "eHRtEJCDUpXy"
      }
    },
    {
      "cell_type": "code",
      "execution_count": null,
      "metadata": {
        "id": "XJDwmorMTJhu"
      },
      "outputs": [],
      "source": [
        "import tensorflow as tf\n",
        "import pandas as pd\n",
        "import numpy as np"
      ]
    },
    {
      "cell_type": "code",
      "source": [
        "reviews = ['nice food',\n",
        "        'amazing restaurant',\n",
        "        'too good',\n",
        "        'just loved it!',\n",
        "        'will go again',\n",
        "        'horrible food',\n",
        "        'never go there',\n",
        "        'poor service',\n",
        "        'poor quality',\n",
        "        'needs improvement']\n",
        "\n",
        "sentiment = [1,1,1,1,1,0,0,0,0,0]\n",
        "\n",
        "vocabolary_size = 100\n",
        "max_length = 4\n",
        "out_embedded_size = 5\n",
        "\n",
        "df = pd.DataFrame(zip(reviews, sentiment), columns=[\"review\", \"sentiment\"])\n",
        "df.head()"
      ],
      "metadata": {
        "colab": {
          "base_uri": "https://localhost:8080/",
          "height": 206
        },
        "id": "MKqY17xNTRYy",
        "outputId": "70485e51-f215-481e-f437-5648e055fcec"
      },
      "execution_count": null,
      "outputs": [
        {
          "output_type": "execute_result",
          "data": {
            "text/plain": [
              "               review  sentiment\n",
              "0           nice food          1\n",
              "1  amazing restaurant          1\n",
              "2            too good          1\n",
              "3      just loved it!          1\n",
              "4       will go again          1"
            ],
            "text/html": [
              "\n",
              "  <div id=\"df-f93ec9f0-264e-4963-95f0-5a28b6160590\">\n",
              "    <div class=\"colab-df-container\">\n",
              "      <div>\n",
              "<style scoped>\n",
              "    .dataframe tbody tr th:only-of-type {\n",
              "        vertical-align: middle;\n",
              "    }\n",
              "\n",
              "    .dataframe tbody tr th {\n",
              "        vertical-align: top;\n",
              "    }\n",
              "\n",
              "    .dataframe thead th {\n",
              "        text-align: right;\n",
              "    }\n",
              "</style>\n",
              "<table border=\"1\" class=\"dataframe\">\n",
              "  <thead>\n",
              "    <tr style=\"text-align: right;\">\n",
              "      <th></th>\n",
              "      <th>review</th>\n",
              "      <th>sentiment</th>\n",
              "    </tr>\n",
              "  </thead>\n",
              "  <tbody>\n",
              "    <tr>\n",
              "      <th>0</th>\n",
              "      <td>nice food</td>\n",
              "      <td>1</td>\n",
              "    </tr>\n",
              "    <tr>\n",
              "      <th>1</th>\n",
              "      <td>amazing restaurant</td>\n",
              "      <td>1</td>\n",
              "    </tr>\n",
              "    <tr>\n",
              "      <th>2</th>\n",
              "      <td>too good</td>\n",
              "      <td>1</td>\n",
              "    </tr>\n",
              "    <tr>\n",
              "      <th>3</th>\n",
              "      <td>just loved it!</td>\n",
              "      <td>1</td>\n",
              "    </tr>\n",
              "    <tr>\n",
              "      <th>4</th>\n",
              "      <td>will go again</td>\n",
              "      <td>1</td>\n",
              "    </tr>\n",
              "  </tbody>\n",
              "</table>\n",
              "</div>\n",
              "      <button class=\"colab-df-convert\" onclick=\"convertToInteractive('df-f93ec9f0-264e-4963-95f0-5a28b6160590')\"\n",
              "              title=\"Convert this dataframe to an interactive table.\"\n",
              "              style=\"display:none;\">\n",
              "        \n",
              "  <svg xmlns=\"http://www.w3.org/2000/svg\" height=\"24px\"viewBox=\"0 0 24 24\"\n",
              "       width=\"24px\">\n",
              "    <path d=\"M0 0h24v24H0V0z\" fill=\"none\"/>\n",
              "    <path d=\"M18.56 5.44l.94 2.06.94-2.06 2.06-.94-2.06-.94-.94-2.06-.94 2.06-2.06.94zm-11 1L8.5 8.5l.94-2.06 2.06-.94-2.06-.94L8.5 2.5l-.94 2.06-2.06.94zm10 10l.94 2.06.94-2.06 2.06-.94-2.06-.94-.94-2.06-.94 2.06-2.06.94z\"/><path d=\"M17.41 7.96l-1.37-1.37c-.4-.4-.92-.59-1.43-.59-.52 0-1.04.2-1.43.59L10.3 9.45l-7.72 7.72c-.78.78-.78 2.05 0 2.83L4 21.41c.39.39.9.59 1.41.59.51 0 1.02-.2 1.41-.59l7.78-7.78 2.81-2.81c.8-.78.8-2.07 0-2.86zM5.41 20L4 18.59l7.72-7.72 1.47 1.35L5.41 20z\"/>\n",
              "  </svg>\n",
              "      </button>\n",
              "      \n",
              "  <style>\n",
              "    .colab-df-container {\n",
              "      display:flex;\n",
              "      flex-wrap:wrap;\n",
              "      gap: 12px;\n",
              "    }\n",
              "\n",
              "    .colab-df-convert {\n",
              "      background-color: #E8F0FE;\n",
              "      border: none;\n",
              "      border-radius: 50%;\n",
              "      cursor: pointer;\n",
              "      display: none;\n",
              "      fill: #1967D2;\n",
              "      height: 32px;\n",
              "      padding: 0 0 0 0;\n",
              "      width: 32px;\n",
              "    }\n",
              "\n",
              "    .colab-df-convert:hover {\n",
              "      background-color: #E2EBFA;\n",
              "      box-shadow: 0px 1px 2px rgba(60, 64, 67, 0.3), 0px 1px 3px 1px rgba(60, 64, 67, 0.15);\n",
              "      fill: #174EA6;\n",
              "    }\n",
              "\n",
              "    [theme=dark] .colab-df-convert {\n",
              "      background-color: #3B4455;\n",
              "      fill: #D2E3FC;\n",
              "    }\n",
              "\n",
              "    [theme=dark] .colab-df-convert:hover {\n",
              "      background-color: #434B5C;\n",
              "      box-shadow: 0px 1px 3px 1px rgba(0, 0, 0, 0.15);\n",
              "      filter: drop-shadow(0px 1px 2px rgba(0, 0, 0, 0.3));\n",
              "      fill: #FFFFFF;\n",
              "    }\n",
              "  </style>\n",
              "\n",
              "      <script>\n",
              "        const buttonEl =\n",
              "          document.querySelector('#df-f93ec9f0-264e-4963-95f0-5a28b6160590 button.colab-df-convert');\n",
              "        buttonEl.style.display =\n",
              "          google.colab.kernel.accessAllowed ? 'block' : 'none';\n",
              "\n",
              "        async function convertToInteractive(key) {\n",
              "          const element = document.querySelector('#df-f93ec9f0-264e-4963-95f0-5a28b6160590');\n",
              "          const dataTable =\n",
              "            await google.colab.kernel.invokeFunction('convertToInteractive',\n",
              "                                                     [key], {});\n",
              "          if (!dataTable) return;\n",
              "\n",
              "          const docLinkHtml = 'Like what you see? Visit the ' +\n",
              "            '<a target=\"_blank\" href=https://colab.research.google.com/notebooks/data_table.ipynb>data table notebook</a>'\n",
              "            + ' to learn more about interactive tables.';\n",
              "          element.innerHTML = '';\n",
              "          dataTable['output_type'] = 'display_data';\n",
              "          await google.colab.output.renderOutput(dataTable, element);\n",
              "          const docLink = document.createElement('div');\n",
              "          docLink.innerHTML = docLinkHtml;\n",
              "          element.appendChild(docLink);\n",
              "        }\n",
              "      </script>\n",
              "    </div>\n",
              "  </div>\n",
              "  "
            ]
          },
          "metadata": {},
          "execution_count": 3
        }
      ]
    },
    {
      "cell_type": "code",
      "source": [
        "tf.keras.preprocessing.text.one_hot(reviews[1], 10)"
      ],
      "metadata": {
        "colab": {
          "base_uri": "https://localhost:8080/"
        },
        "id": "y9XftwD1WHO_",
        "outputId": "a20dfd28-86de-4763-c391-15105a4d6a5d"
      },
      "execution_count": null,
      "outputs": [
        {
          "output_type": "execute_result",
          "data": {
            "text/plain": [
              "[2, 1]"
            ]
          },
          "metadata": {},
          "execution_count": 4
        }
      ]
    },
    {
      "cell_type": "code",
      "source": [
        "encoded_review = df.review.apply(lambda x: tf.keras.preprocessing.text.one_hot(x, vocabolary_size))\n",
        "encoded_review"
      ],
      "metadata": {
        "colab": {
          "base_uri": "https://localhost:8080/"
        },
        "id": "joQuRjrwWOWe",
        "outputId": "6836e401-e1a6-459b-e83d-6cad1d821cb3"
      },
      "execution_count": null,
      "outputs": [
        {
          "output_type": "execute_result",
          "data": {
            "text/plain": [
              "0        [48, 22]\n",
              "1        [47, 46]\n",
              "2         [36, 5]\n",
              "3    [20, 35, 84]\n",
              "4     [1, 54, 19]\n",
              "5        [32, 22]\n",
              "6    [52, 54, 55]\n",
              "7        [64, 94]\n",
              "8        [64, 82]\n",
              "9         [11, 2]\n",
              "Name: review, dtype: object"
            ]
          },
          "metadata": {},
          "execution_count": 5
        }
      ]
    },
    {
      "cell_type": "code",
      "source": [
        "padded_review = tf.keras.preprocessing.sequence.pad_sequences(encoded_review, maxlen=max_length, padding=\"post\")\n",
        "padded_review"
      ],
      "metadata": {
        "colab": {
          "base_uri": "https://localhost:8080/"
        },
        "id": "7Ix3F8A-YFFe",
        "outputId": "e568bad1-1dae-4241-cddc-e2ca268240bf"
      },
      "execution_count": null,
      "outputs": [
        {
          "output_type": "execute_result",
          "data": {
            "text/plain": [
              "array([[48, 22,  0,  0],\n",
              "       [47, 46,  0,  0],\n",
              "       [36,  5,  0,  0],\n",
              "       [20, 35, 84,  0],\n",
              "       [ 1, 54, 19,  0],\n",
              "       [32, 22,  0,  0],\n",
              "       [52, 54, 55,  0],\n",
              "       [64, 94,  0,  0],\n",
              "       [64, 82,  0,  0],\n",
              "       [11,  2,  0,  0]], dtype=int32)"
            ]
          },
          "metadata": {},
          "execution_count": 6
        }
      ]
    },
    {
      "cell_type": "code",
      "source": [
        "model = tf.keras.models.Sequential(layers=[\n",
        "    tf.keras.layers.Embedding(input_dim=vocabolary_size, output_dim=out_embedded_size, input_length=max_length)\n",
        "])\n",
        "\n",
        "model.summary()\n",
        "\n",
        "res = model.predict(padded_review[:1])\n",
        "display(res.shape, res)"
      ],
      "metadata": {
        "colab": {
          "base_uri": "https://localhost:8080/",
          "height": 382
        },
        "id": "7COj3NHwZ1TK",
        "outputId": "e4bf0a49-a7b4-4848-a160-66f88e92819b"
      },
      "execution_count": null,
      "outputs": [
        {
          "output_type": "stream",
          "name": "stdout",
          "text": [
            "Model: \"sequential\"\n",
            "_________________________________________________________________\n",
            " Layer (type)                Output Shape              Param #   \n",
            "=================================================================\n",
            " embedding (Embedding)       (None, 4, 5)              500       \n",
            "                                                                 \n",
            "=================================================================\n",
            "Total params: 500\n",
            "Trainable params: 500\n",
            "Non-trainable params: 0\n",
            "_________________________________________________________________\n",
            "1/1 [==============================] - 0s 395ms/step\n"
          ]
        },
        {
          "output_type": "display_data",
          "data": {
            "text/plain": [
              "(1, 4, 5)"
            ]
          },
          "metadata": {}
        },
        {
          "output_type": "display_data",
          "data": {
            "text/plain": [
              "array([[[ 0.04483915,  0.04730549,  0.03211022, -0.03175589,\n",
              "         -0.03915942],\n",
              "        [-0.02853294,  0.02670611, -0.04709234,  0.04388363,\n",
              "         -0.03390338],\n",
              "        [ 0.0480032 ,  0.01492996, -0.00394572, -0.01552893,\n",
              "          0.03739699],\n",
              "        [ 0.0480032 ,  0.01492996, -0.00394572, -0.01552893,\n",
              "          0.03739699]]], dtype=float32)"
            ]
          },
          "metadata": {}
        }
      ]
    },
    {
      "cell_type": "code",
      "source": [
        "model = tf.keras.models.Sequential(layers=[\n",
        "    tf.keras.layers.Embedding(input_dim=vocabolary_size, output_dim=out_embedded_size, \n",
        "                              input_length=max_length, name=\"embedding\"),\n",
        "    tf.keras.layers.Flatten(),\n",
        "    tf.keras.layers.Dense(units=100, activation=\"relu\"),\n",
        "    tf.keras.layers.Dense(units=50, activation=\"relu\"),\n",
        "    tf.keras.layers.Dense(units=1, activation=\"sigmoid\"),\n",
        "])\n",
        "\n",
        "model.summary()"
      ],
      "metadata": {
        "colab": {
          "base_uri": "https://localhost:8080/"
        },
        "id": "Xz_gAsV9aosQ",
        "outputId": "412734a4-da4d-4d61-87fd-f506c104006d"
      },
      "execution_count": 17,
      "outputs": [
        {
          "output_type": "stream",
          "name": "stdout",
          "text": [
            "Model: \"sequential_3\"\n",
            "_________________________________________________________________\n",
            " Layer (type)                Output Shape              Param #   \n",
            "=================================================================\n",
            " embedding (Embedding)       (None, 4, 5)              500       \n",
            "                                                                 \n",
            " flatten_2 (Flatten)         (None, 20)                0         \n",
            "                                                                 \n",
            " dense_6 (Dense)             (None, 100)               2100      \n",
            "                                                                 \n",
            " dense_7 (Dense)             (None, 50)                5050      \n",
            "                                                                 \n",
            " dense_8 (Dense)             (None, 1)                 51        \n",
            "                                                                 \n",
            "=================================================================\n",
            "Total params: 7,701\n",
            "Trainable params: 7,701\n",
            "Non-trainable params: 0\n",
            "_________________________________________________________________\n"
          ]
        }
      ]
    },
    {
      "cell_type": "code",
      "source": [
        "model.compile(optimizer=\"adam\", loss=\"binary_crossentropy\", metrics=[\"accuracy\"])\n",
        "model.fit(padded_review, df.sentiment, epochs=50)"
      ],
      "metadata": {
        "colab": {
          "base_uri": "https://localhost:8080/"
        },
        "id": "P-Z5KbbQbkPX",
        "outputId": "3d2d5860-26a5-403d-939e-4b3c3db42fe0"
      },
      "execution_count": 18,
      "outputs": [
        {
          "output_type": "stream",
          "name": "stdout",
          "text": [
            "Epoch 1/50\n",
            "1/1 [==============================] - 1s 538ms/step - loss: 0.6928 - accuracy: 0.7000\n",
            "Epoch 2/50\n",
            "1/1 [==============================] - 0s 9ms/step - loss: 0.6908 - accuracy: 0.8000\n",
            "Epoch 3/50\n",
            "1/1 [==============================] - 0s 7ms/step - loss: 0.6890 - accuracy: 0.8000\n",
            "Epoch 4/50\n",
            "1/1 [==============================] - 0s 6ms/step - loss: 0.6873 - accuracy: 0.8000\n",
            "Epoch 5/50\n",
            "1/1 [==============================] - 0s 6ms/step - loss: 0.6855 - accuracy: 0.9000\n",
            "Epoch 6/50\n",
            "1/1 [==============================] - 0s 7ms/step - loss: 0.6834 - accuracy: 1.0000\n",
            "Epoch 7/50\n",
            "1/1 [==============================] - 0s 7ms/step - loss: 0.6812 - accuracy: 1.0000\n",
            "Epoch 8/50\n",
            "1/1 [==============================] - 0s 7ms/step - loss: 0.6787 - accuracy: 1.0000\n",
            "Epoch 9/50\n",
            "1/1 [==============================] - 0s 7ms/step - loss: 0.6761 - accuracy: 1.0000\n",
            "Epoch 10/50\n",
            "1/1 [==============================] - 0s 7ms/step - loss: 0.6733 - accuracy: 1.0000\n",
            "Epoch 11/50\n",
            "1/1 [==============================] - 0s 7ms/step - loss: 0.6702 - accuracy: 1.0000\n",
            "Epoch 12/50\n",
            "1/1 [==============================] - 0s 7ms/step - loss: 0.6669 - accuracy: 1.0000\n",
            "Epoch 13/50\n",
            "1/1 [==============================] - 0s 7ms/step - loss: 0.6633 - accuracy: 1.0000\n",
            "Epoch 14/50\n",
            "1/1 [==============================] - 0s 7ms/step - loss: 0.6595 - accuracy: 1.0000\n",
            "Epoch 15/50\n",
            "1/1 [==============================] - 0s 8ms/step - loss: 0.6553 - accuracy: 1.0000\n",
            "Epoch 16/50\n",
            "1/1 [==============================] - 0s 7ms/step - loss: 0.6509 - accuracy: 1.0000\n",
            "Epoch 17/50\n",
            "1/1 [==============================] - 0s 15ms/step - loss: 0.6461 - accuracy: 1.0000\n",
            "Epoch 18/50\n",
            "1/1 [==============================] - 0s 13ms/step - loss: 0.6411 - accuracy: 1.0000\n",
            "Epoch 19/50\n",
            "1/1 [==============================] - 0s 7ms/step - loss: 0.6356 - accuracy: 1.0000\n",
            "Epoch 20/50\n",
            "1/1 [==============================] - 0s 8ms/step - loss: 0.6298 - accuracy: 1.0000\n",
            "Epoch 21/50\n",
            "1/1 [==============================] - 0s 7ms/step - loss: 0.6235 - accuracy: 1.0000\n",
            "Epoch 22/50\n",
            "1/1 [==============================] - 0s 6ms/step - loss: 0.6168 - accuracy: 1.0000\n",
            "Epoch 23/50\n",
            "1/1 [==============================] - 0s 7ms/step - loss: 0.6097 - accuracy: 1.0000\n",
            "Epoch 24/50\n",
            "1/1 [==============================] - 0s 6ms/step - loss: 0.6022 - accuracy: 1.0000\n",
            "Epoch 25/50\n",
            "1/1 [==============================] - 0s 7ms/step - loss: 0.5942 - accuracy: 1.0000\n",
            "Epoch 26/50\n",
            "1/1 [==============================] - 0s 7ms/step - loss: 0.5855 - accuracy: 1.0000\n",
            "Epoch 27/50\n",
            "1/1 [==============================] - 0s 8ms/step - loss: 0.5763 - accuracy: 1.0000\n",
            "Epoch 28/50\n",
            "1/1 [==============================] - 0s 8ms/step - loss: 0.5666 - accuracy: 1.0000\n",
            "Epoch 29/50\n",
            "1/1 [==============================] - 0s 7ms/step - loss: 0.5564 - accuracy: 1.0000\n",
            "Epoch 30/50\n",
            "1/1 [==============================] - 0s 7ms/step - loss: 0.5456 - accuracy: 1.0000\n",
            "Epoch 31/50\n",
            "1/1 [==============================] - 0s 7ms/step - loss: 0.5344 - accuracy: 1.0000\n",
            "Epoch 32/50\n",
            "1/1 [==============================] - 0s 7ms/step - loss: 0.5227 - accuracy: 1.0000\n",
            "Epoch 33/50\n",
            "1/1 [==============================] - 0s 7ms/step - loss: 0.5104 - accuracy: 1.0000\n",
            "Epoch 34/50\n",
            "1/1 [==============================] - 0s 7ms/step - loss: 0.4976 - accuracy: 1.0000\n",
            "Epoch 35/50\n",
            "1/1 [==============================] - 0s 7ms/step - loss: 0.4843 - accuracy: 1.0000\n",
            "Epoch 36/50\n",
            "1/1 [==============================] - 0s 7ms/step - loss: 0.4706 - accuracy: 1.0000\n",
            "Epoch 37/50\n",
            "1/1 [==============================] - 0s 7ms/step - loss: 0.4563 - accuracy: 1.0000\n",
            "Epoch 38/50\n",
            "1/1 [==============================] - 0s 7ms/step - loss: 0.4417 - accuracy: 1.0000\n",
            "Epoch 39/50\n",
            "1/1 [==============================] - 0s 7ms/step - loss: 0.4267 - accuracy: 1.0000\n",
            "Epoch 40/50\n",
            "1/1 [==============================] - 0s 7ms/step - loss: 0.4114 - accuracy: 1.0000\n",
            "Epoch 41/50\n",
            "1/1 [==============================] - 0s 7ms/step - loss: 0.3958 - accuracy: 1.0000\n",
            "Epoch 42/50\n",
            "1/1 [==============================] - 0s 7ms/step - loss: 0.3799 - accuracy: 1.0000\n",
            "Epoch 43/50\n",
            "1/1 [==============================] - 0s 7ms/step - loss: 0.3637 - accuracy: 1.0000\n",
            "Epoch 44/50\n",
            "1/1 [==============================] - 0s 7ms/step - loss: 0.3473 - accuracy: 1.0000\n",
            "Epoch 45/50\n",
            "1/1 [==============================] - 0s 10ms/step - loss: 0.3308 - accuracy: 1.0000\n",
            "Epoch 46/50\n",
            "1/1 [==============================] - 0s 13ms/step - loss: 0.3142 - accuracy: 1.0000\n",
            "Epoch 47/50\n",
            "1/1 [==============================] - 0s 10ms/step - loss: 0.2976 - accuracy: 1.0000\n",
            "Epoch 48/50\n",
            "1/1 [==============================] - 0s 9ms/step - loss: 0.2812 - accuracy: 1.0000\n",
            "Epoch 49/50\n",
            "1/1 [==============================] - 0s 31ms/step - loss: 0.2650 - accuracy: 1.0000\n",
            "Epoch 50/50\n",
            "1/1 [==============================] - 0s 7ms/step - loss: 0.2490 - accuracy: 1.0000\n"
          ]
        },
        {
          "output_type": "execute_result",
          "data": {
            "text/plain": [
              "<keras.callbacks.History at 0x7fb048016af0>"
            ]
          },
          "metadata": {},
          "execution_count": 18
        }
      ]
    },
    {
      "cell_type": "code",
      "source": [
        "predicted = model.predict(padded_review)\n",
        "\n",
        "display(df.sentiment.to_numpy(), predicted.reshape(-1))"
      ],
      "metadata": {
        "colab": {
          "base_uri": "https://localhost:8080/",
          "height": 104
        },
        "id": "eGN4z7Gwb4bh",
        "outputId": "39f25dde-0874-494c-ce7a-0633d9d2cc85"
      },
      "execution_count": null,
      "outputs": [
        {
          "output_type": "stream",
          "name": "stdout",
          "text": [
            "1/1 [==============================] - 0s 57ms/step\n"
          ]
        },
        {
          "output_type": "display_data",
          "data": {
            "text/plain": [
              "array([1, 1, 1, 1, 1, 0, 0, 0, 0, 0])"
            ]
          },
          "metadata": {}
        },
        {
          "output_type": "display_data",
          "data": {
            "text/plain": [
              "array([9.9996042e-01, 9.9998915e-01, 9.9999154e-01, 9.9999666e-01,\n",
              "       9.9997663e-01, 9.1626185e-05, 7.6990378e-05, 3.1882966e-05,\n",
              "       2.6149066e-05, 4.3791046e-05], dtype=float32)"
            ]
          },
          "metadata": {}
        }
      ]
    },
    {
      "cell_type": "code",
      "source": [
        "embedded_layer = model.get_layer(\"embedding\")\n",
        "weights = np.array(embedded_layer.get_weights()[0])\n",
        "\n",
        "display(weights.shape, weights[0])"
      ],
      "metadata": {
        "colab": {
          "base_uri": "https://localhost:8080/",
          "height": 69
        },
        "id": "6w__2eqncJ1Q",
        "outputId": "e8df3625-ef73-4d34-c36f-64697aef144c"
      },
      "execution_count": null,
      "outputs": [
        {
          "output_type": "display_data",
          "data": {
            "text/plain": [
              "(100, 5)"
            ]
          },
          "metadata": {}
        },
        {
          "output_type": "display_data",
          "data": {
            "text/plain": [
              "array([ 0.14726722,  0.14564395, -0.15086071,  0.1396672 , -0.13746569],\n",
              "      dtype=float32)"
            ]
          },
          "metadata": {}
        }
      ]
    },
    {
      "cell_type": "code",
      "source": [],
      "metadata": {
        "id": "kmXITHh0d8EI"
      },
      "execution_count": null,
      "outputs": []
    }
  ]
}