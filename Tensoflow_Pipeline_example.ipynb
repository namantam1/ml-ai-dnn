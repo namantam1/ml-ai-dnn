{
  "nbformat": 4,
  "nbformat_minor": 0,
  "metadata": {
    "colab": {
      "provenance": [],
      "authorship_tag": "ABX9TyNlREVjduvgkD5+/V1rprZ0",
      "include_colab_link": true
    },
    "kernelspec": {
      "name": "python3",
      "display_name": "Python 3"
    },
    "language_info": {
      "name": "python"
    },
    "accelerator": "GPU",
    "gpuClass": "standard"
  },
  "cells": [
    {
      "cell_type": "markdown",
      "metadata": {
        "id": "view-in-github",
        "colab_type": "text"
      },
      "source": [
        "<a href=\"https://colab.research.google.com/github/namantam1/ml-ai-dnn/blob/main/Tensoflow_Pipeline_example.ipynb\" target=\"_parent\"><img src=\"https://colab.research.google.com/assets/colab-badge.svg\" alt=\"Open In Colab\"/></a>"
      ]
    },
    {
      "cell_type": "code",
      "execution_count": null,
      "metadata": {
        "id": "MwG3WmbLFBee"
      },
      "outputs": [],
      "source": [
        "import tensorflow as tf\n",
        "import numpy as np\n",
        "import matplotlib.pyplot as plt\n",
        "import pandas as pd\n",
        "import seaborn as sns"
      ]
    },
    {
      "cell_type": "code",
      "source": [
        "train, test = tf.keras.datasets.fashion_mnist.load_data()\n",
        "\n",
        "images, labels = train\n",
        "# images = images/255.0\n",
        "# display(images.shape, labels.shape, labels[:10])\n",
        "labels = labels.astype(np.int32)\n",
        "images = images.astype(np.float32)\n",
        "display(images.shape, labels.shape, labels[:10])"
      ],
      "metadata": {
        "colab": {
          "base_uri": "https://localhost:8080/",
          "height": 208
        },
        "id": "HxUb2kzEFNIN",
        "outputId": "b9c8ed82-f5f6-411f-abc6-108dba664ee6"
      },
      "execution_count": null,
      "outputs": [
        {
          "output_type": "stream",
          "name": "stdout",
          "text": [
            "Downloading data from https://storage.googleapis.com/tensorflow/tf-keras-datasets/train-labels-idx1-ubyte.gz\n",
            "29515/29515 [==============================] - 0s 0us/step\n",
            "Downloading data from https://storage.googleapis.com/tensorflow/tf-keras-datasets/train-images-idx3-ubyte.gz\n",
            "26421880/26421880 [==============================] - 2s 0us/step\n",
            "Downloading data from https://storage.googleapis.com/tensorflow/tf-keras-datasets/t10k-labels-idx1-ubyte.gz\n",
            "5148/5148 [==============================] - 0s 0us/step\n",
            "Downloading data from https://storage.googleapis.com/tensorflow/tf-keras-datasets/t10k-images-idx3-ubyte.gz\n",
            "4422102/4422102 [==============================] - 0s 0us/step\n"
          ]
        },
        {
          "output_type": "display_data",
          "data": {
            "text/plain": [
              "(60000, 28, 28)"
            ]
          },
          "metadata": {}
        },
        {
          "output_type": "display_data",
          "data": {
            "text/plain": [
              "(60000,)"
            ]
          },
          "metadata": {}
        },
        {
          "output_type": "display_data",
          "data": {
            "text/plain": [
              "array([9, 0, 0, 3, 0, 2, 7, 2, 5, 5], dtype=int32)"
            ]
          },
          "metadata": {}
        }
      ]
    },
    {
      "cell_type": "code",
      "source": [
        "labels[:10]"
      ],
      "metadata": {
        "colab": {
          "base_uri": "https://localhost:8080/"
        },
        "id": "XXmv82r9GElz",
        "outputId": "9cb718f1-a175-42a3-f0f2-630eb674d176"
      },
      "execution_count": null,
      "outputs": [
        {
          "output_type": "execute_result",
          "data": {
            "text/plain": [
              "array([9, 0, 0, 3, 0, 2, 7, 2, 5, 5], dtype=int32)"
            ]
          },
          "metadata": {},
          "execution_count": 3
        }
      ]
    },
    {
      "cell_type": "code",
      "source": [
        "plt.imshow(images[0])"
      ],
      "metadata": {
        "colab": {
          "base_uri": "https://localhost:8080/",
          "height": 282
        },
        "id": "ZXEQK1uQFePn",
        "outputId": "592347f2-ce25-4b8a-b866-faef9b664349"
      },
      "execution_count": null,
      "outputs": [
        {
          "output_type": "execute_result",
          "data": {
            "text/plain": [
              "<matplotlib.image.AxesImage at 0x7fd45298ddc0>"
            ]
          },
          "metadata": {},
          "execution_count": 4
        },
        {
          "output_type": "display_data",
          "data": {
            "text/plain": [
              "<Figure size 432x288 with 1 Axes>"
            ],
            "image/png": "[encoded data removed]"
          },
          "metadata": {
            "needs_background": "light"
          }
        }
      ]
    },
    {
      "cell_type": "code",
      "source": [
        "def normalize(image, label):\n",
        "  return image/255.0, label\n",
        "\n",
        "images, labels = train\n",
        "labels = labels.astype(np.int32)\n",
        "images = images.astype(np.float32)\n",
        "\n",
        "# train = (images, labels)\n",
        "fmnist_train_ds = tf.data.Dataset.from_tensor_slices((images, labels))\\\n",
        "  .map(normalize)\\\n",
        "  .shuffle(buffer_size=5000)\\\n",
        "  .cache()\\\n",
        "  .prefetch(buffer_size=tf.data.AUTOTUNE)\\\n",
        "  .batch(batch_size=1000) # same as batch_size in model.fit\n",
        "\n",
        "images, labels = test\n",
        "labels = labels.astype(np.int32)\n",
        "images = images.astype(np.float32)\n",
        "\n",
        "fmnist_test_ds = tf.data.Dataset.from_tensor_slices((images, labels))\\\n",
        "  .map(normalize)\\\n",
        "  .shuffle(buffer_size=5000)\\\n",
        "  .cache()\\\n",
        "  .prefetch(buffer_size=tf.data.AUTOTUNE)\\\n",
        "  .batch(batch_size=1000) # same as batch_size in model.fit"
      ],
      "metadata": {
        "id": "qz-BY3U8Flzg"
      },
      "execution_count": null,
      "outputs": []
    },
    {
      "cell_type": "code",
      "source": [
        "model = tf.keras.Sequential([\n",
        "    tf.keras.Input(shape=(28, 28, 1)),\n",
        "    tf.keras.layers.Conv2D(filters=32, kernel_size=(3, 3), activation='relu'),\n",
        "    tf.keras.layers.MaxPooling2D(pool_size=(2, 2)),\n",
        "    tf.keras.layers.Dropout(rate=0.2),\n",
        "    tf.keras.layers.Conv2D(filters=64, kernel_size=(3, 3), activation='relu'),\n",
        "    tf.keras.layers.MaxPooling2D(pool_size=(2, 2)),\n",
        "    tf.keras.layers.Dropout(rate=0.2),\n",
        "    tf.keras.layers.Conv2D(filters=64, kernel_size=(3, 3), activation='relu'),\n",
        "    tf.keras.layers.Flatten(),\n",
        "    tf.keras.layers.Dense(units=256, activation='relu'),\n",
        "    tf.keras.layers.Dropout(rate=0.2),\n",
        "    tf.keras.layers.Dense(units=10) # output labels count\n",
        "])\n",
        "\n",
        "model.summary()"
      ],
      "metadata": {
        "colab": {
          "base_uri": "https://localhost:8080/"
        },
        "id": "uWGfSJ1TIXuI",
        "outputId": "e0a4560a-7e77-4859-ddfb-b1ecd7a79294"
      },
      "execution_count": null,
      "outputs": [
        {
          "output_type": "stream",
          "name": "stdout",
          "text": [
            "Model: \"sequential_5\"\n",
            "_________________________________________________________________\n",
            " Layer (type)                Output Shape              Param #   \n",
            "=================================================================\n",
            " conv2d_15 (Conv2D)          (None, 26, 26, 32)        320       \n",
            "                                                                 \n",
            " max_pooling2d_10 (MaxPoolin  (None, 13, 13, 32)       0         \n",
            " g2D)                                                            \n",
            "                                                                 \n",
            " dropout_1 (Dropout)         (None, 13, 13, 32)        0         \n",
            "                                                                 \n",
            " conv2d_16 (Conv2D)          (None, 11, 11, 64)        18496     \n",
            "                                                                 \n",
            " max_pooling2d_11 (MaxPoolin  (None, 5, 5, 64)         0         \n",
            " g2D)                                                            \n",
            "                                                                 \n",
            " dropout_2 (Dropout)         (None, 5, 5, 64)          0         \n",
            "                                                                 \n",
            " conv2d_17 (Conv2D)          (None, 3, 3, 64)          36928     \n",
            "                                                                 \n",
            " flatten_5 (Flatten)         (None, 576)               0         \n",
            "                                                                 \n",
            " dense_10 (Dense)            (None, 256)               147712    \n",
            "                                                                 \n",
            " dropout_3 (Dropout)         (None, 256)               0         \n",
            "                                                                 \n",
            " dense_11 (Dense)            (None, 10)                2570      \n",
            "                                                                 \n",
            "=================================================================\n",
            "Total params: 206,026\n",
            "Trainable params: 206,026\n",
            "Non-trainable params: 0\n",
            "_________________________________________________________________\n"
          ]
        }
      ]
    },
    {
      "cell_type": "code",
      "source": [
        "EPOCHS = 50\n",
        "checkpoint_filepath = '/tmp/checkpoint'\n",
        "\n",
        "# for saving best model\n",
        "model_checkpoint_callback = tf.keras.callbacks.ModelCheckpoint(\n",
        "    filepath=checkpoint_filepath,\n",
        "    save_weights_only=True,\n",
        "    monitor='val_accuracy',\n",
        "    mode='max',\n",
        "    save_best_only=True\n",
        ")\n",
        "\n",
        "\n",
        "model.compile(\n",
        "    optimizer='adam',\n",
        "    loss=tf.keras.losses.SparseCategoricalCrossentropy(from_logits=True),\n",
        "    metrics=['accuracy']\n",
        ")\n",
        "\n",
        "history = model.fit(\n",
        "    fmnist_train_ds, \n",
        "    epochs=EPOCHS,\n",
        "    validation_data=fmnist_test_ds,\n",
        "    callbacks=[model_checkpoint_callback],\n",
        "    # validation_split=0.2, // can't use tf dataset\n",
        "    # batch_size=200 // useless incase of tensor dataset\n",
        ")\n",
        "\n",
        "# The model weights (that are considered the best) are loaded into the model.\n",
        "model.load_weights(checkpoint_filepath)"
      ],
      "metadata": {
        "colab": {
          "base_uri": "https://localhost:8080/"
        },
        "id": "pbRpLMDSJhrz",
        "outputId": "6078777d-1161-46fd-c753-b8517c20f833"
      },
      "execution_count": null,
      "outputs": [
        {
          "output_type": "stream",
          "name": "stdout",
          "text": [
            "Epoch 1/50\n",
            "60/60 [==============================] - 2s 29ms/step - loss: 1.0382 - accuracy: 0.6242 - val_loss: 0.6299 - val_accuracy: 0.7629\n",
            "Epoch 2/50\n",
            "60/60 [==============================] - 2s 27ms/step - loss: 0.5871 - accuracy: 0.7786 - val_loss: 0.5152 - val_accuracy: 0.8070\n",
            "Epoch 3/50\n",
            "60/60 [==============================] - 2s 27ms/step - loss: 0.5046 - accuracy: 0.8117 - val_loss: 0.4552 - val_accuracy: 0.8308\n",
            "Epoch 4/50\n",
            "60/60 [==============================] - 2s 27ms/step - loss: 0.4561 - accuracy: 0.8313 - val_loss: 0.4221 - val_accuracy: 0.8473\n",
            "Epoch 5/50\n",
            "60/60 [==============================] - 2s 27ms/step - loss: 0.4214 - accuracy: 0.8443 - val_loss: 0.3941 - val_accuracy: 0.8581\n",
            "Epoch 6/50\n",
            "60/60 [==============================] - 2s 27ms/step - loss: 0.3932 - accuracy: 0.8560 - val_loss: 0.3734 - val_accuracy: 0.8683\n",
            "Epoch 7/50\n",
            "60/60 [==============================] - 2s 27ms/step - loss: 0.3706 - accuracy: 0.8638 - val_loss: 0.3534 - val_accuracy: 0.8735\n",
            "Epoch 8/50\n",
            "60/60 [==============================] - 2s 27ms/step - loss: 0.3525 - accuracy: 0.8716 - val_loss: 0.3420 - val_accuracy: 0.8757\n",
            "Epoch 9/50\n",
            "60/60 [==============================] - 2s 27ms/step - loss: 0.3377 - accuracy: 0.8753 - val_loss: 0.3306 - val_accuracy: 0.8795\n",
            "Epoch 10/50\n",
            "60/60 [==============================] - 2s 27ms/step - loss: 0.3212 - accuracy: 0.8830 - val_loss: 0.3166 - val_accuracy: 0.8847\n",
            "Epoch 11/50\n",
            "60/60 [==============================] - 2s 27ms/step - loss: 0.3133 - accuracy: 0.8848 - val_loss: 0.3091 - val_accuracy: 0.8880\n",
            "Epoch 12/50\n",
            "60/60 [==============================] - 2s 26ms/step - loss: 0.3055 - accuracy: 0.8878 - val_loss: 0.3060 - val_accuracy: 0.8874\n",
            "Epoch 13/50\n",
            "60/60 [==============================] - 2s 27ms/step - loss: 0.2957 - accuracy: 0.8912 - val_loss: 0.2972 - val_accuracy: 0.8923\n",
            "Epoch 14/50\n",
            "60/60 [==============================] - 2s 27ms/step - loss: 0.2878 - accuracy: 0.8946 - val_loss: 0.2926 - val_accuracy: 0.8941\n",
            "Epoch 15/50\n",
            "60/60 [==============================] - 2s 27ms/step - loss: 0.2825 - accuracy: 0.8953 - val_loss: 0.2837 - val_accuracy: 0.8975\n",
            "Epoch 16/50\n",
            "60/60 [==============================] - 2s 26ms/step - loss: 0.2750 - accuracy: 0.8984 - val_loss: 0.2839 - val_accuracy: 0.8971\n",
            "Epoch 17/50\n",
            "60/60 [==============================] - 2s 27ms/step - loss: 0.2654 - accuracy: 0.9020 - val_loss: 0.2796 - val_accuracy: 0.8998\n",
            "Epoch 18/50\n",
            "60/60 [==============================] - 2s 27ms/step - loss: 0.2618 - accuracy: 0.9032 - val_loss: 0.2705 - val_accuracy: 0.9030\n",
            "Epoch 19/50\n",
            "60/60 [==============================] - 2s 27ms/step - loss: 0.2558 - accuracy: 0.9062 - val_loss: 0.2711 - val_accuracy: 0.9030\n",
            "Epoch 20/50\n",
            "60/60 [==============================] - 2s 26ms/step - loss: 0.2504 - accuracy: 0.9074 - val_loss: 0.2638 - val_accuracy: 0.9068\n",
            "Epoch 21/50\n",
            "60/60 [==============================] - 2s 25ms/step - loss: 0.2477 - accuracy: 0.9081 - val_loss: 0.2640 - val_accuracy: 0.9041\n",
            "Epoch 22/50\n",
            "60/60 [==============================] - 2s 25ms/step - loss: 0.2437 - accuracy: 0.9109 - val_loss: 0.2574 - val_accuracy: 0.9067\n",
            "Epoch 23/50\n",
            "60/60 [==============================] - 2s 27ms/step - loss: 0.2386 - accuracy: 0.9119 - val_loss: 0.2586 - val_accuracy: 0.9069\n",
            "Epoch 24/50\n",
            "60/60 [==============================] - 2s 27ms/step - loss: 0.2359 - accuracy: 0.9134 - val_loss: 0.2561 - val_accuracy: 0.9090\n",
            "Epoch 25/50\n",
            "60/60 [==============================] - 2s 27ms/step - loss: 0.2311 - accuracy: 0.9148 - val_loss: 0.2521 - val_accuracy: 0.9106\n",
            "Epoch 26/50\n",
            "60/60 [==============================] - 2s 27ms/step - loss: 0.2283 - accuracy: 0.9154 - val_loss: 0.2508 - val_accuracy: 0.9098\n",
            "Epoch 27/50\n",
            "60/60 [==============================] - 2s 31ms/step - loss: 0.2262 - accuracy: 0.9149 - val_loss: 0.2498 - val_accuracy: 0.9107\n",
            "Epoch 28/50\n",
            "60/60 [==============================] - 2s 26ms/step - loss: 0.2235 - accuracy: 0.9168 - val_loss: 0.2516 - val_accuracy: 0.9105\n",
            "Epoch 29/50\n",
            "60/60 [==============================] - 2s 27ms/step - loss: 0.2152 - accuracy: 0.9207 - val_loss: 0.2455 - val_accuracy: 0.9130\n",
            "Epoch 30/50\n",
            "60/60 [==============================] - 2s 27ms/step - loss: 0.2127 - accuracy: 0.9200 - val_loss: 0.2428 - val_accuracy: 0.9131\n",
            "Epoch 31/50\n",
            "60/60 [==============================] - 2s 27ms/step - loss: 0.2105 - accuracy: 0.9219 - val_loss: 0.2424 - val_accuracy: 0.9151\n",
            "Epoch 32/50\n",
            "60/60 [==============================] - 2s 27ms/step - loss: 0.2112 - accuracy: 0.9218 - val_loss: 0.2449 - val_accuracy: 0.9134\n",
            "Epoch 33/50\n",
            "60/60 [==============================] - 2s 27ms/step - loss: 0.2062 - accuracy: 0.9233 - val_loss: 0.2359 - val_accuracy: 0.9149\n",
            "Epoch 34/50\n",
            "60/60 [==============================] - 2s 32ms/step - loss: 0.2050 - accuracy: 0.9229 - val_loss: 0.2457 - val_accuracy: 0.9137\n",
            "Epoch 35/50\n",
            "60/60 [==============================] - 2s 26ms/step - loss: 0.2016 - accuracy: 0.9247 - val_loss: 0.2432 - val_accuracy: 0.9135\n",
            "Epoch 36/50\n",
            "60/60 [==============================] - 2s 27ms/step - loss: 0.2016 - accuracy: 0.9259 - val_loss: 0.2403 - val_accuracy: 0.9153\n",
            "Epoch 37/50\n",
            "60/60 [==============================] - 2s 27ms/step - loss: 0.1934 - accuracy: 0.9276 - val_loss: 0.2319 - val_accuracy: 0.9171\n",
            "Epoch 38/50\n",
            "60/60 [==============================] - 2s 27ms/step - loss: 0.1917 - accuracy: 0.9288 - val_loss: 0.2353 - val_accuracy: 0.9162\n",
            "Epoch 39/50\n",
            "60/60 [==============================] - 2s 27ms/step - loss: 0.1872 - accuracy: 0.9295 - val_loss: 0.2353 - val_accuracy: 0.9178\n",
            "Epoch 40/50\n",
            "60/60 [==============================] - 2s 27ms/step - loss: 0.1886 - accuracy: 0.9294 - val_loss: 0.2408 - val_accuracy: 0.9154\n",
            "Epoch 41/50\n",
            "60/60 [==============================] - 2s 27ms/step - loss: 0.1850 - accuracy: 0.9301 - val_loss: 0.2382 - val_accuracy: 0.9174\n",
            "Epoch 42/50\n",
            "60/60 [==============================] - 2s 27ms/step - loss: 0.1812 - accuracy: 0.9324 - val_loss: 0.2342 - val_accuracy: 0.9183\n",
            "Epoch 43/50\n",
            "60/60 [==============================] - 2s 27ms/step - loss: 0.1745 - accuracy: 0.9346 - val_loss: 0.2363 - val_accuracy: 0.9202\n",
            "Epoch 44/50\n",
            "60/60 [==============================] - 2s 26ms/step - loss: 0.1771 - accuracy: 0.9337 - val_loss: 0.2286 - val_accuracy: 0.9198\n",
            "Epoch 45/50\n",
            "60/60 [==============================] - 2s 27ms/step - loss: 0.1722 - accuracy: 0.9356 - val_loss: 0.2287 - val_accuracy: 0.9204\n",
            "Epoch 46/50\n",
            "60/60 [==============================] - 2s 27ms/step - loss: 0.1715 - accuracy: 0.9357 - val_loss: 0.2309 - val_accuracy: 0.9189\n",
            "Epoch 47/50\n",
            "60/60 [==============================] - 2s 35ms/step - loss: 0.1711 - accuracy: 0.9358 - val_loss: 0.2284 - val_accuracy: 0.9198\n",
            "Epoch 48/50\n",
            "60/60 [==============================] - 2s 35ms/step - loss: 0.1658 - accuracy: 0.9381 - val_loss: 0.2324 - val_accuracy: 0.9195\n",
            "Epoch 49/50\n",
            "60/60 [==============================] - 2s 27ms/step - loss: 0.1646 - accuracy: 0.9377 - val_loss: 0.2298 - val_accuracy: 0.9207\n",
            "Epoch 50/50\n",
            "60/60 [==============================] - 2s 27ms/step - loss: 0.1621 - accuracy: 0.9385 - val_loss: 0.2301 - val_accuracy: 0.9205\n"
          ]
        },
        {
          "output_type": "execute_result",
          "data": {
            "text/plain": [
              "<tensorflow.python.training.tracking.util.CheckpointLoadStatus at 0x7fd2dc32cf70>"
            ]
          },
          "metadata": {},
          "execution_count": 54
        }
      ]
    },
    {
      "cell_type": "code",
      "source": [
        "model.load_weights(checkpoint_filepath)"
      ],
      "metadata": {
        "colab": {
          "base_uri": "https://localhost:8080/"
        },
        "id": "baVIPkzmc--t",
        "outputId": "e31fa6e9-0b9a-4127-be7c-fa16603f5287"
      },
      "execution_count": null,
      "outputs": [
        {
          "output_type": "execute_result",
          "data": {
            "text/plain": [
              "<tensorflow.python.training.tracking.util.CheckpointLoadStatus at 0x7fd3b4128c70>"
            ]
          },
          "metadata": {},
          "execution_count": 28
        }
      ]
    },
    {
      "cell_type": "code",
      "source": [
        "# display(history.history)\n",
        "\n",
        "# plt.plot(history.history[\"loss\"])\n",
        "# plt.plot(history.history[\"accuracy\"])\n",
        "# plt.plot(history.history.values())\n",
        "\n",
        "res = pd.DataFrame(history.history).plot(\n",
        "    figsize=(15,10)\n",
        ")\n",
        "plt.xlabel(\"Epochs\")\n",
        "plt.show()"
      ],
      "metadata": {
        "colab": {
          "base_uri": "https://localhost:8080/",
          "height": 606
        },
        "id": "TdsG83MLNsSq",
        "outputId": "0a3ebd16-be69-4305-8253-5eb862b07145"
      },
      "execution_count": null,
      "outputs": [
        {
          "output_type": "display_data",
          "data": {
            "text/plain": [
              "<Figure size 1080x720 with 1 Axes>"
            ],
            "image/png": "[encoded data removed]"
          },
          "metadata": {
            "needs_background": "light"
          }
        }
      ]
    },
    {
      "cell_type": "code",
      "source": [
        "loss, accuracy = model.evaluate(fmnist_test_ds)\n",
        "print(\"Loss :\", loss)\n",
        "print(\"Accuracy :\", accuracy)\n",
        "# model.predict(fmnist_train_ds)"
      ],
      "metadata": {
        "colab": {
          "base_uri": "https://localhost:8080/"
        },
        "id": "1PX0rluLKHdF",
        "outputId": "9fc1dde8-9a8c-4806-ad84-f4cc75a15d7b"
      },
      "execution_count": null,
      "outputs": [
        {
          "output_type": "stream",
          "name": "stdout",
          "text": [
            "10/10 [==============================] - 0s 16ms/step - loss: 0.2298 - accuracy: 0.9207\n",
            "Loss : 0.22983580827713013\n",
            "Accuracy : 0.9207000136375427\n"
          ]
        }
      ]
    },
    {
      "cell_type": "code",
      "source": [
        "images, labels = test\n",
        "images = images / 255.0\n",
        "\n",
        "labels_predicted = model.predict(images)"
      ],
      "metadata": {
        "colab": {
          "base_uri": "https://localhost:8080/"
        },
        "id": "JnaTMqFwKpYI",
        "outputId": "94004de7-e6e1-4154-9dbd-a316b0e073c7"
      },
      "execution_count": null,
      "outputs": [
        {
          "output_type": "stream",
          "name": "stdout",
          "text": [
            "313/313 [==============================] - 1s 2ms/step\n"
          ]
        }
      ]
    },
    {
      "cell_type": "code",
      "source": [
        "res = model.predict(images)\n",
        "\n",
        "res.shape"
      ],
      "metadata": {
        "colab": {
          "base_uri": "https://localhost:8080/"
        },
        "id": "lztS-POmZhOE",
        "outputId": "c73fd861-8735-474f-fc11-541ab75a8318"
      },
      "execution_count": null,
      "outputs": [
        {
          "output_type": "stream",
          "name": "stdout",
          "text": [
            "313/313 [==============================] - 1s 2ms/step\n"
          ]
        },
        {
          "output_type": "execute_result",
          "data": {
            "text/plain": [
              "(10000, 10)"
            ]
          },
          "metadata": {},
          "execution_count": 57
        }
      ]
    },
    {
      "cell_type": "code",
      "source": [
        "# display(res[0], np.argmax(res[0]), labels[0])\n",
        "labels_predicted = np.argmax(res, axis=1)"
      ],
      "metadata": {
        "id": "Yl-mxHyNdnJq"
      },
      "execution_count": null,
      "outputs": []
    },
    {
      "cell_type": "code",
      "source": [
        "# np.unique(labels).shape\n",
        "cf = tf.math.confusion_matrix(labels, labels_predicted)\n",
        "\n",
        "plt.figure(figsize=(15, 10))\n",
        "sns.heatmap(cf, annot=True)"
      ],
      "metadata": {
        "colab": {
          "base_uri": "https://localhost:8080/",
          "height": 609
        },
        "id": "LApjhIPXLm_H",
        "outputId": "380cd61f-4ccb-4809-dde0-a5f65df5124d"
      },
      "execution_count": null,
      "outputs": [
        {
          "output_type": "execute_result",
          "data": {
            "text/plain": [
              "<matplotlib.axes._subplots.AxesSubplot at 0x7fd2dcc1cdf0>"
            ]
          },
          "metadata": {},
          "execution_count": 59
        },
        {
          "output_type": "display_data",
          "data": {
            "text/plain": [
              "<Figure size 1080x720 with 2 Axes>"
            ],
            "image/png": "[encoded data removed]"
          },
          "metadata": {
            "needs_background": "light"
          }
        }
      ]
    }
  ]
}